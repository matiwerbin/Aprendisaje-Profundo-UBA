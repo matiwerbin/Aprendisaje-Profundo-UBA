{
  "nbformat": 4,
  "nbformat_minor": 0,
  "metadata": {
    "colab": {
      "provenance": []
    },
    "kernelspec": {
      "name": "python3",
      "display_name": "Python 3"
    },
    "language_info": {
      "name": "python"
    }
  },
  "cells": [
    {
      "cell_type": "markdown",
      "source": [
        "# Universidad de Buenos Aires\n",
        "# Deep Learning - TP1\n",
        "# Alumno: Matias Werbin"
      ],
      "metadata": {
        "id": "tC_OydF08hIf"
      }
    },
    {
      "cell_type": "markdown",
      "source": [
        "## Ejercicio 1\n",
        "\n",
        "**Dado** el grafo de cómputo de la imagen siguiente, donde a=1, b=2 y c=3:\n",
        "\n",
        "1. Realizar el paso forward y calcular Y.\n",
        "\n",
        "2. Realizar el paso backward y calcular el backpropagation para a,b y c:\n",
        "\n",
        "    a. En forma analítica (dy/dx = 0)\n",
        "\n",
        "    b. Utilizando pytorch\n",
        "\n",
        "    c. Comparar los resultados de los puntos anteriores"
      ],
      "metadata": {
        "id": "_UrGmpIs8qvP"
      }
    },
    {
      "cell_type": "markdown",
      "source": [
        "**Grafo de Cómputo:**\n",
        "\n",
        "![grafo computo.jpg](data:image/jpeg;base64,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)\n",
        "\n"
      ],
      "metadata": {
        "id": "PZEk1BlI8xB0"
      }
    },
    {
      "cell_type": "code",
      "source": [
        "# importación de librerias a utilizar\n",
        "\n",
        "import pandas as pd\n",
        "import numpy as np\n",
        "import torch\n"
      ],
      "metadata": {
        "id": "hYqVbliU9dTf"
      },
      "execution_count": null,
      "outputs": []
    },
    {
      "cell_type": "markdown",
      "source": [
        "1. Realizar el paso forward y calcular Y. Este punto se realizo de dos maneras:\n",
        "\n",
        "* Con ingreso por teclado (usuario) de variables a, b y c (para validad resultados correctos se debe ingresar a=1, b=2 y c=3)\n",
        "* Usando valores detallados en grafo del ejercicio a=1, b=2 y c=3\n",
        "\n"
      ],
      "metadata": {
        "id": "jNPJCiHi96o3"
      }
    },
    {
      "cell_type": "code",
      "source": [
        "# Solicitamos al usuario que ingrese valores de a, b y c\n",
        "\n",
        "a = float(input(\"Ingrese el valor de la variable a: \"))\n",
        "b = float(input(\"Ingrese el valor de la variable b: \"))\n",
        "c = float(input(\"Ingrese el valor de la variable c: \"))\n",
        "\n",
        "# Creación de variables d y e\n",
        "d = a + b\n",
        "e = b - c\n",
        "\n",
        "# Creación de la variable objetivo Y\n",
        "Y = d * e\n",
        "\n",
        "# Print paso forward con valores inciiales de a, b y c seteados por el usuario\n",
        "\n",
        "print(f\"El resultado del paso forward, segun los valores que ingreso el usuario para a, b y c es: {Y}\")\n"
      ],
      "metadata": {
        "colab": {
          "base_uri": "https://localhost:8080/"
        },
        "id": "4htZ9mWX9tjP",
        "outputId": "d5e85a52-a611-472a-8a55-907d2ac8d51a"
      },
      "execution_count": null,
      "outputs": [
        {
          "output_type": "stream",
          "name": "stdout",
          "text": [
            "Ingrese el valor de la variable a: 1\n",
            "Ingrese el valor de la variable b: 2\n",
            "Ingrese el valor de la variable c: 3\n",
            "El resultado del paso forward, segun los valores que ingreso el usuario para a, b y c es: -3.0\n"
          ]
        }
      ]
    },
    {
      "cell_type": "code",
      "source": [
        "# Inicializamos los valores de a, b y c\n",
        "\n",
        "a = 1\n",
        "b = 2\n",
        "c = 3\n",
        "\n",
        "# Creación de variables d y e\n",
        "d = a + b\n",
        "e = b - c\n",
        "\n",
        "# Creación de la variable objetivo Y\n",
        "Y = d * e\n",
        "\n",
        "# Print paso forward con valores inciiales de a, b y c seteados por el usuario\n",
        "\n",
        "print(f\"El resultado del paso forward es: {Y}\")"
      ],
      "metadata": {
        "colab": {
          "base_uri": "https://localhost:8080/"
        },
        "id": "ckzFWEbQCvuX",
        "outputId": "d5bf2b11-ba85-44b8-e85c-f81373eae128"
      },
      "execution_count": null,
      "outputs": [
        {
          "output_type": "stream",
          "name": "stdout",
          "text": [
            "El resultado del paso forward es: -3\n"
          ]
        }
      ]
    },
    {
      "cell_type": "markdown",
      "source": [
        "2. Realizar el paso backward y calcular el backpropagation para a, b y c:\n",
        "\n",
        "    a. En forma analítica (dy/dx = 0)"
      ],
      "metadata": {
        "id": "ugT3J4fXC-0x"
      }
    },
    {
      "cell_type": "code",
      "source": [
        "# dy/da = dy/dd * dd/da = e * 1 = e\n",
        "\n",
        "dya=e\n",
        "\n",
        "print(f\"El paso backward para a, es decir, dy/da, es: {dya}\")\n",
        "\n",
        "\n"
      ],
      "metadata": {
        "colab": {
          "base_uri": "https://localhost:8080/"
        },
        "id": "UpMxy30BC88T",
        "outputId": "2fcf90a4-d6f7-4989-849f-514868a99550"
      },
      "execution_count": null,
      "outputs": [
        {
          "output_type": "stream",
          "name": "stdout",
          "text": [
            "El paso backward para a, es decir, dy/da, es: -1\n"
          ]
        }
      ]
    },
    {
      "cell_type": "code",
      "source": [
        "# dy/db = (dy/dd *dd/db + dy/de * de/dv) = (e * 1 + d * 1 ) = e + d\n",
        "\n",
        "dyb= e + d\n",
        "\n",
        "print(f\"El paso backward para a, es decir, dy/db, es: {dyb}\")"
      ],
      "metadata": {
        "colab": {
          "base_uri": "https://localhost:8080/"
        },
        "id": "D9qXFHRKHES8",
        "outputId": "9f385123-6ea9-4c51-9973-e5d10467beee"
      },
      "execution_count": null,
      "outputs": [
        {
          "output_type": "stream",
          "name": "stdout",
          "text": [
            "El paso backward para a, es decir, dy/db, es: 2\n"
          ]
        }
      ]
    },
    {
      "cell_type": "code",
      "source": [
        "# dy/dc = (dy/de * de/dc) = d * -1 = -d\n",
        "\n",
        "dyc=-d\n",
        "\n",
        "print(f\"El paso backward para a, es decir, dy/dc, es: {dyc}\")"
      ],
      "metadata": {
        "colab": {
          "base_uri": "https://localhost:8080/"
        },
        "id": "qxhWNooaJw91",
        "outputId": "3e2373b2-0ba3-4d9f-a6df-27499d3a8e71"
      },
      "execution_count": null,
      "outputs": [
        {
          "output_type": "stream",
          "name": "stdout",
          "text": [
            "El paso backward para a, es decir, dy/dc, es: -3\n"
          ]
        }
      ]
    },
    {
      "cell_type": "markdown",
      "source": [
        "2. Realizar el paso backward y calcular el backpropagation para a, b y c:\n",
        "\n",
        "    b. Utilizando pytorch\n"
      ],
      "metadata": {
        "id": "GUdFya2CF5qW"
      }
    },
    {
      "cell_type": "code",
      "source": [
        "tensor_a=torch.tensor([1.0],requires_grad=True)\n",
        "tensor_b=torch.tensor([2.0],requires_grad=True)\n",
        "tensor_c=torch.tensor([3.0],requires_grad=True)\n",
        "tensor_d = tensor_a + tensor_b\n",
        "tensor_e = tensor_b - tensor_c\n",
        "tensor_Y = tensor_d * tensor_e"
      ],
      "metadata": {
        "id": "GlQj1trdFz3d"
      },
      "execution_count": null,
      "outputs": []
    },
    {
      "cell_type": "code",
      "source": [
        "tensor_Y.backward()\n",
        "print(tensor_a.grad)\n",
        "print(tensor_b.grad)\n",
        "print(tensor_c.grad)"
      ],
      "metadata": {
        "colab": {
          "base_uri": "https://localhost:8080/"
        },
        "id": "zLrDRqP9F2hX",
        "outputId": "34aced28-5873-4e48-9555-915b23e273ef"
      },
      "execution_count": null,
      "outputs": [
        {
          "output_type": "stream",
          "name": "stdout",
          "text": [
            "tensor([-1.])\n",
            "tensor([2.])\n",
            "tensor([-3.])\n"
          ]
        }
      ]
    },
    {
      "cell_type": "markdown",
      "source": [
        "2. Realizar el paso backward y calcular el backpropagation para a,b y c:\n",
        "\n",
        "    c. Comparar los resultados de los puntos anteriores\n",
        "\n",
        "**Los resultados al comparar el punto 2.1 y 2.2 son iguales.**\n",
        "\n",
        "Podriamos destacar algunas cosas positivas y negativas para cada forma de resolver:\n",
        "\n",
        "* Analiticamente: permite tener una correcta comprensión del proceso de backward de una red neuronal pero puede ser mas propenso a errores cuando las funciones a derivar son mas complejas\n",
        "\n",
        "* Pytorch: sin dudas la ventaja es la eficiencia y la automatización del proceso de backward pero se podria tomar como desventaja que funciona como \"caja negra\" y dejando a un lado la comprensión del mismo\n"
      ],
      "metadata": {
        "id": "vA64FtzuKmtH"
      }
    },
    {
      "cell_type": "markdown",
      "source": [
        "## Ejercicio 2\n",
        "\n",
        "Se desea construir un sistema de recomendación de películas. Para esto se cuenta con un dataset de las puntuaciones que los usuarios han asignado a las peliculas disponibles.\n",
        "\n",
        "Link dataset: https://drive.google.com/file/d/1Og9H-8oqb3_Wo_WOakeAuRR_mwr922Ar/view?usp=sharing\n",
        "\n",
        "Para verificar la factibilidad del proyecto con datos válidos, se decide utilizar solamente las 200 películas con más votos y los usuarios que han puntuado al menos 100 películas.\n",
        "\n",
        "1- Analizar el dataset para utilizar solamente las 200 películas con mayor cantidad de votos y los usuarios que hayan votado al menos 100 películas.\n",
        "\n",
        "2- A partir del dataset del punto 1, construir una única red neuronal que utilice una capa de embeddings para el id de usuario, una capa de embeddings para el id de película y al menos dos capas lineales que sea capaz de predecir el puntaje que cada usuario colocó a cada pelicula.\n",
        "\n",
        "3- Elegir un usuario al azar, una película que dicho usuario haya puntuado y verificar la predicción del modelo. Comparar con el puntaje real que el usuario asignó a dicha película.\n",
        "\n",
        "4- Realizar una recomendación de película para el usuario del punto 3 utilizando los embeddings de usuario o los embeddings de películas. Comprobar si la recomendación es correcta haciendo una predicción del puntuaje con la red neuronal."
      ],
      "metadata": {
        "id": "s9fwvWrmNUo7"
      }
    },
    {
      "cell_type": "code",
      "source": [
        "# importación de librerias\n",
        "\n",
        "from torch.utils.data import Dataset, DataLoader\n",
        "from sklearn import metrics\n",
        "import matplotlib.pyplot as plt"
      ],
      "metadata": {
        "id": "3bLzMFgUoT5p"
      },
      "execution_count": null,
      "outputs": []
    },
    {
      "cell_type": "code",
      "source": [
        "from google.colab import drive\n",
        "drive.mount('/content/drive')"
      ],
      "metadata": {
        "colab": {
          "base_uri": "https://localhost:8080/"
        },
        "id": "XnjSBUMgTquU",
        "outputId": "8f0767bc-1573-4f38-dbdf-5dcb11fb9f0c"
      },
      "execution_count": null,
      "outputs": [
        {
          "output_type": "stream",
          "name": "stdout",
          "text": [
            "Drive already mounted at /content/drive; to attempt to forcibly remount, call drive.mount(\"/content/drive\", force_remount=True).\n"
          ]
        }
      ]
    },
    {
      "cell_type": "code",
      "source": [
        "# colocar el path asociado al archivo ratings.csv correspondiente al drive que se este utilizando\n",
        "\n",
        "file_path=\"/content/drive/MyDrive/TP 1-Deep Learning/ratings.csv\""
      ],
      "metadata": {
        "id": "5D9eFrjVT70B"
      },
      "execution_count": null,
      "outputs": []
    },
    {
      "cell_type": "code",
      "source": [
        "df=pd.read_csv(file_path)"
      ],
      "metadata": {
        "id": "i-LESxGVUNn7"
      },
      "execution_count": null,
      "outputs": []
    },
    {
      "cell_type": "code",
      "source": [
        "# En caso de cargar directamente el csv al colab ejecutar este código\n",
        "\n",
        "# df=pd.read_csv(\"/content/ratings.csv\")"
      ],
      "metadata": {
        "id": "ccCLbK4xnBYe"
      },
      "execution_count": null,
      "outputs": []
    },
    {
      "cell_type": "code",
      "source": [
        "df.head()"
      ],
      "metadata": {
        "colab": {
          "base_uri": "https://localhost:8080/",
          "height": 206
        },
        "id": "LnozE61WV2U7",
        "outputId": "a68d6bd9-0586-4d00-e651-d798c2b92d72"
      },
      "execution_count": null,
      "outputs": [
        {
          "output_type": "execute_result",
          "data": {
            "text/plain": [
              "   userId  movieId  rating  timestamp\n",
              "0       1        1     4.0  964982703\n",
              "1       1        3     4.0  964981247\n",
              "2       1        6     4.0  964982224\n",
              "3       1       47     5.0  964983815\n",
              "4       1       50     5.0  964982931"
            ],
            "text/html": [
              "\n",
              "  <div id=\"df-616426e1-16d8-43f2-a2cc-a1d7b6d423a9\" class=\"colab-df-container\">\n",
              "    <div>\n",
              "<style scoped>\n",
              "    .dataframe tbody tr th:only-of-type {\n",
              "        vertical-align: middle;\n",
              "    }\n",
              "\n",
              "    .dataframe tbody tr th {\n",
              "        vertical-align: top;\n",
              "    }\n",
              "\n",
              "    .dataframe thead th {\n",
              "        text-align: right;\n",
              "    }\n",
              "</style>\n",
              "<table border=\"1\" class=\"dataframe\">\n",
              "  <thead>\n",
              "    <tr style=\"text-align: right;\">\n",
              "      <th></th>\n",
              "      <th>userId</th>\n",
              "      <th>movieId</th>\n",
              "      <th>rating</th>\n",
              "      <th>timestamp</th>\n",
              "    </tr>\n",
              "  </thead>\n",
              "  <tbody>\n",
              "    <tr>\n",
              "      <th>0</th>\n",
              "      <td>1</td>\n",
              "      <td>1</td>\n",
              "      <td>4.0</td>\n",
              "      <td>964982703</td>\n",
              "    </tr>\n",
              "    <tr>\n",
              "      <th>1</th>\n",
              "      <td>1</td>\n",
              "      <td>3</td>\n",
              "      <td>4.0</td>\n",
              "      <td>964981247</td>\n",
              "    </tr>\n",
              "    <tr>\n",
              "      <th>2</th>\n",
              "      <td>1</td>\n",
              "      <td>6</td>\n",
              "      <td>4.0</td>\n",
              "      <td>964982224</td>\n",
              "    </tr>\n",
              "    <tr>\n",
              "      <th>3</th>\n",
              "      <td>1</td>\n",
              "      <td>47</td>\n",
              "      <td>5.0</td>\n",
              "      <td>964983815</td>\n",
              "    </tr>\n",
              "    <tr>\n",
              "      <th>4</th>\n",
              "      <td>1</td>\n",
              "      <td>50</td>\n",
              "      <td>5.0</td>\n",
              "      <td>964982931</td>\n",
              "    </tr>\n",
              "  </tbody>\n",
              "</table>\n",
              "</div>\n",
              "    <div class=\"colab-df-buttons\">\n",
              "\n",
              "  <div class=\"colab-df-container\">\n",
              "    <button class=\"colab-df-convert\" onclick=\"convertToInteractive('df-616426e1-16d8-43f2-a2cc-a1d7b6d423a9')\"\n",
              "            title=\"Convert this dataframe to an interactive table.\"\n",
              "            style=\"display:none;\">\n",
              "\n",
              "  <svg xmlns=\"http://www.w3.org/2000/svg\" height=\"24px\" viewBox=\"0 -960 960 960\">\n",
              "    <path d=\"M120-120v-720h720v720H120Zm60-500h600v-160H180v160Zm220 220h160v-160H400v160Zm0 220h160v-160H400v160ZM180-400h160v-160H180v160Zm440 0h160v-160H620v160ZM180-180h160v-160H180v160Zm440 0h160v-160H620v160Z\"/>\n",
              "  </svg>\n",
              "    </button>\n",
              "\n",
              "  <style>\n",
              "    .colab-df-container {\n",
              "      display:flex;\n",
              "      gap: 12px;\n",
              "    }\n",
              "\n",
              "    .colab-df-convert {\n",
              "      background-color: #E8F0FE;\n",
              "      border: none;\n",
              "      border-radius: 50%;\n",
              "      cursor: pointer;\n",
              "      display: none;\n",
              "      fill: #1967D2;\n",
              "      height: 32px;\n",
              "      padding: 0 0 0 0;\n",
              "      width: 32px;\n",
              "    }\n",
              "\n",
              "    .colab-df-convert:hover {\n",
              "      background-color: #E2EBFA;\n",
              "      box-shadow: 0px 1px 2px rgba(60, 64, 67, 0.3), 0px 1px 3px 1px rgba(60, 64, 67, 0.15);\n",
              "      fill: #174EA6;\n",
              "    }\n",
              "\n",
              "    .colab-df-buttons div {\n",
              "      margin-bottom: 4px;\n",
              "    }\n",
              "\n",
              "    [theme=dark] .colab-df-convert {\n",
              "      background-color: #3B4455;\n",
              "      fill: #D2E3FC;\n",
              "    }\n",
              "\n",
              "    [theme=dark] .colab-df-convert:hover {\n",
              "      background-color: #434B5C;\n",
              "      box-shadow: 0px 1px 3px 1px rgba(0, 0, 0, 0.15);\n",
              "      filter: drop-shadow(0px 1px 2px rgba(0, 0, 0, 0.3));\n",
              "      fill: #FFFFFF;\n",
              "    }\n",
              "  </style>\n",
              "\n",
              "    <script>\n",
              "      const buttonEl =\n",
              "        document.querySelector('#df-616426e1-16d8-43f2-a2cc-a1d7b6d423a9 button.colab-df-convert');\n",
              "      buttonEl.style.display =\n",
              "        google.colab.kernel.accessAllowed ? 'block' : 'none';\n",
              "\n",
              "      async function convertToInteractive(key) {\n",
              "        const element = document.querySelector('#df-616426e1-16d8-43f2-a2cc-a1d7b6d423a9');\n",
              "        const dataTable =\n",
              "          await google.colab.kernel.invokeFunction('convertToInteractive',\n",
              "                                                    [key], {});\n",
              "        if (!dataTable) return;\n",
              "\n",
              "        const docLinkHtml = 'Like what you see? Visit the ' +\n",
              "          '<a target=\"_blank\" href=https://colab.research.google.com/notebooks/data_table.ipynb>data table notebook</a>'\n",
              "          + ' to learn more about interactive tables.';\n",
              "        element.innerHTML = '';\n",
              "        dataTable['output_type'] = 'display_data';\n",
              "        await google.colab.output.renderOutput(dataTable, element);\n",
              "        const docLink = document.createElement('div');\n",
              "        docLink.innerHTML = docLinkHtml;\n",
              "        element.appendChild(docLink);\n",
              "      }\n",
              "    </script>\n",
              "  </div>\n",
              "\n",
              "\n",
              "<div id=\"df-c48c1798-2706-46a3-b5b1-2489d943a1c5\">\n",
              "  <button class=\"colab-df-quickchart\" onclick=\"quickchart('df-c48c1798-2706-46a3-b5b1-2489d943a1c5')\"\n",
              "            title=\"Suggest charts\"\n",
              "            style=\"display:none;\">\n",
              "\n",
              "<svg xmlns=\"http://www.w3.org/2000/svg\" height=\"24px\"viewBox=\"0 0 24 24\"\n",
              "     width=\"24px\">\n",
              "    <g>\n",
              "        <path d=\"M19 3H5c-1.1 0-2 .9-2 2v14c0 1.1.9 2 2 2h14c1.1 0 2-.9 2-2V5c0-1.1-.9-2-2-2zM9 17H7v-7h2v7zm4 0h-2V7h2v10zm4 0h-2v-4h2v4z\"/>\n",
              "    </g>\n",
              "</svg>\n",
              "  </button>\n",
              "\n",
              "<style>\n",
              "  .colab-df-quickchart {\n",
              "      --bg-color: #E8F0FE;\n",
              "      --fill-color: #1967D2;\n",
              "      --hover-bg-color: #E2EBFA;\n",
              "      --hover-fill-color: #174EA6;\n",
              "      --disabled-fill-color: #AAA;\n",
              "      --disabled-bg-color: #DDD;\n",
              "  }\n",
              "\n",
              "  [theme=dark] .colab-df-quickchart {\n",
              "      --bg-color: #3B4455;\n",
              "      --fill-color: #D2E3FC;\n",
              "      --hover-bg-color: #434B5C;\n",
              "      --hover-fill-color: #FFFFFF;\n",
              "      --disabled-bg-color: #3B4455;\n",
              "      --disabled-fill-color: #666;\n",
              "  }\n",
              "\n",
              "  .colab-df-quickchart {\n",
              "    background-color: var(--bg-color);\n",
              "    border: none;\n",
              "    border-radius: 50%;\n",
              "    cursor: pointer;\n",
              "    display: none;\n",
              "    fill: var(--fill-color);\n",
              "    height: 32px;\n",
              "    padding: 0;\n",
              "    width: 32px;\n",
              "  }\n",
              "\n",
              "  .colab-df-quickchart:hover {\n",
              "    background-color: var(--hover-bg-color);\n",
              "    box-shadow: 0 1px 2px rgba(60, 64, 67, 0.3), 0 1px 3px 1px rgba(60, 64, 67, 0.15);\n",
              "    fill: var(--button-hover-fill-color);\n",
              "  }\n",
              "\n",
              "  .colab-df-quickchart-complete:disabled,\n",
              "  .colab-df-quickchart-complete:disabled:hover {\n",
              "    background-color: var(--disabled-bg-color);\n",
              "    fill: var(--disabled-fill-color);\n",
              "    box-shadow: none;\n",
              "  }\n",
              "\n",
              "  .colab-df-spinner {\n",
              "    border: 2px solid var(--fill-color);\n",
              "    border-color: transparent;\n",
              "    border-bottom-color: var(--fill-color);\n",
              "    animation:\n",
              "      spin 1s steps(1) infinite;\n",
              "  }\n",
              "\n",
              "  @keyframes spin {\n",
              "    0% {\n",
              "      border-color: transparent;\n",
              "      border-bottom-color: var(--fill-color);\n",
              "      border-left-color: var(--fill-color);\n",
              "    }\n",
              "    20% {\n",
              "      border-color: transparent;\n",
              "      border-left-color: var(--fill-color);\n",
              "      border-top-color: var(--fill-color);\n",
              "    }\n",
              "    30% {\n",
              "      border-color: transparent;\n",
              "      border-left-color: var(--fill-color);\n",
              "      border-top-color: var(--fill-color);\n",
              "      border-right-color: var(--fill-color);\n",
              "    }\n",
              "    40% {\n",
              "      border-color: transparent;\n",
              "      border-right-color: var(--fill-color);\n",
              "      border-top-color: var(--fill-color);\n",
              "    }\n",
              "    60% {\n",
              "      border-color: transparent;\n",
              "      border-right-color: var(--fill-color);\n",
              "    }\n",
              "    80% {\n",
              "      border-color: transparent;\n",
              "      border-right-color: var(--fill-color);\n",
              "      border-bottom-color: var(--fill-color);\n",
              "    }\n",
              "    90% {\n",
              "      border-color: transparent;\n",
              "      border-bottom-color: var(--fill-color);\n",
              "    }\n",
              "  }\n",
              "</style>\n",
              "\n",
              "  <script>\n",
              "    async function quickchart(key) {\n",
              "      const quickchartButtonEl =\n",
              "        document.querySelector('#' + key + ' button');\n",
              "      quickchartButtonEl.disabled = true;  // To prevent multiple clicks.\n",
              "      quickchartButtonEl.classList.add('colab-df-spinner');\n",
              "      try {\n",
              "        const charts = await google.colab.kernel.invokeFunction(\n",
              "            'suggestCharts', [key], {});\n",
              "      } catch (error) {\n",
              "        console.error('Error during call to suggestCharts:', error);\n",
              "      }\n",
              "      quickchartButtonEl.classList.remove('colab-df-spinner');\n",
              "      quickchartButtonEl.classList.add('colab-df-quickchart-complete');\n",
              "    }\n",
              "    (() => {\n",
              "      let quickchartButtonEl =\n",
              "        document.querySelector('#df-c48c1798-2706-46a3-b5b1-2489d943a1c5 button');\n",
              "      quickchartButtonEl.style.display =\n",
              "        google.colab.kernel.accessAllowed ? 'block' : 'none';\n",
              "    })();\n",
              "  </script>\n",
              "</div>\n",
              "\n",
              "    </div>\n",
              "  </div>\n"
            ],
            "application/vnd.google.colaboratory.intrinsic+json": {
              "type": "dataframe",
              "variable_name": "df"
            }
          },
          "metadata": {},
          "execution_count": 94
        }
      ]
    },
    {
      "cell_type": "code",
      "source": [
        "df.info() # info() nos brinda un vistazo rápido de nombre y cantidad de columnas, cantidad de registros nulos y no nulos como tipo de datos."
      ],
      "metadata": {
        "colab": {
          "base_uri": "https://localhost:8080/"
        },
        "id": "AXZz5QIuhiKq",
        "outputId": "99ad1dc1-490b-41dc-8014-4949e68c14ef"
      },
      "execution_count": null,
      "outputs": [
        {
          "output_type": "stream",
          "name": "stdout",
          "text": [
            "<class 'pandas.core.frame.DataFrame'>\n",
            "RangeIndex: 100836 entries, 0 to 100835\n",
            "Data columns (total 4 columns):\n",
            " #   Column     Non-Null Count   Dtype  \n",
            "---  ------     --------------   -----  \n",
            " 0   userId     100836 non-null  int64  \n",
            " 1   movieId    100836 non-null  int64  \n",
            " 2   rating     100836 non-null  float64\n",
            " 3   timestamp  100836 non-null  int64  \n",
            "dtypes: float64(1), int64(3)\n",
            "memory usage: 3.1 MB\n"
          ]
        }
      ]
    },
    {
      "cell_type": "code",
      "source": [
        "df.isna().sum() # no hay valores nulos en ninguna columna. Tambien podría haberse observado en la linea anterior con info()"
      ],
      "metadata": {
        "colab": {
          "base_uri": "https://localhost:8080/"
        },
        "id": "W7HLEhghinOP",
        "outputId": "9824a511-9a06-43f9-a7b7-475a220689a9"
      },
      "execution_count": null,
      "outputs": [
        {
          "output_type": "execute_result",
          "data": {
            "text/plain": [
              "userId       0\n",
              "movieId      0\n",
              "rating       0\n",
              "timestamp    0\n",
              "dtype: int64"
            ]
          },
          "metadata": {},
          "execution_count": 96
        }
      ]
    },
    {
      "cell_type": "markdown",
      "source": [
        "Procesamiento de la variable Timestamp- La misma se encuentra en formato int64 y representa la cantidad de segundos transcurrido desde Tiempo unix: 1970-01-01 00:00:00"
      ],
      "metadata": {
        "id": "sQIY3Erj4xao"
      }
    },
    {
      "cell_type": "code",
      "source": [
        "print(df['timestamp'].head())"
      ],
      "metadata": {
        "colab": {
          "base_uri": "https://localhost:8080/"
        },
        "id": "yRH_TLciW1uz",
        "outputId": "3763565e-e276-4f53-b7c3-0ff850a48499"
      },
      "execution_count": null,
      "outputs": [
        {
          "output_type": "stream",
          "name": "stdout",
          "text": [
            "0    964982703\n",
            "1    964981247\n",
            "2    964982224\n",
            "3    964983815\n",
            "4    964982931\n",
            "Name: timestamp, dtype: int64\n"
          ]
        }
      ]
    },
    {
      "cell_type": "code",
      "source": [
        "# Asegurarse de que los valores sean números\n",
        "\n",
        "df['timestamp'] = pd.to_numeric(df['timestamp'], errors='coerce')\n",
        "\n",
        "# Verificar de nuevo los datos\n",
        "\n",
        "print(df['timestamp'].head())\n",
        "\n",
        "print('')\n",
        "\n",
        "print(f\"Cantidad de valores nulos en timestamp: {df['timestamp'].isna().sum()}\")\n"
      ],
      "metadata": {
        "colab": {
          "base_uri": "https://localhost:8080/"
        },
        "id": "PALgeeh-YR_z",
        "outputId": "b10b1cef-de24-4da4-fdb1-d7972db9987d"
      },
      "execution_count": null,
      "outputs": [
        {
          "output_type": "stream",
          "name": "stdout",
          "text": [
            "0    964982703\n",
            "1    964981247\n",
            "2    964982224\n",
            "3    964983815\n",
            "4    964982931\n",
            "Name: timestamp, dtype: int64\n",
            "\n",
            "Cantidad de valores nulos en timestamp: 0\n"
          ]
        }
      ]
    },
    {
      "cell_type": "code",
      "source": [
        "# Convertir la columna de timestamps Unix a datetime\n",
        "\n",
        "df['timestamp'] = pd.to_datetime(df['timestamp'], unit='s')\n",
        "\n",
        "# Agregar una nueva columna con las fechas en formato legible\n",
        "\n",
        "df['fecha'] = df['timestamp'].dt.strftime('%Y-%m-%d %H:%M:%S')\n",
        "\n",
        "# Mostrar las primeras filas del DataFrame modificado\n",
        "\n",
        "print(df.head())\n"
      ],
      "metadata": {
        "colab": {
          "base_uri": "https://localhost:8080/"
        },
        "id": "m87uzqu8Ybmn",
        "outputId": "1ec12055-b7d8-4d64-d18a-4b4657b59ce9"
      },
      "execution_count": null,
      "outputs": [
        {
          "output_type": "stream",
          "name": "stdout",
          "text": [
            "   userId  movieId  rating           timestamp                fecha\n",
            "0       1        1     4.0 2000-07-30 18:45:03  2000-07-30 18:45:03\n",
            "1       1        3     4.0 2000-07-30 18:20:47  2000-07-30 18:20:47\n",
            "2       1        6     4.0 2000-07-30 18:37:04  2000-07-30 18:37:04\n",
            "3       1       47     5.0 2000-07-30 19:03:35  2000-07-30 19:03:35\n",
            "4       1       50     5.0 2000-07-30 18:48:51  2000-07-30 18:48:51\n"
          ]
        }
      ]
    },
    {
      "cell_type": "code",
      "source": [
        "# Borramos columna timestamp\n",
        "\n",
        "df.drop(columns=['timestamp'],inplace=True)"
      ],
      "metadata": {
        "id": "NhvX128dYwb6"
      },
      "execution_count": null,
      "outputs": []
    },
    {
      "cell_type": "code",
      "source": [
        "df.head()"
      ],
      "metadata": {
        "colab": {
          "base_uri": "https://localhost:8080/",
          "height": 206
        },
        "id": "xtKRBIbtZVyP",
        "outputId": "11b17f93-f652-4e11-bbdf-3ff5f6663a82"
      },
      "execution_count": null,
      "outputs": [
        {
          "output_type": "execute_result",
          "data": {
            "text/plain": [
              "   userId  movieId  rating                fecha\n",
              "0       1        1     4.0  2000-07-30 18:45:03\n",
              "1       1        3     4.0  2000-07-30 18:20:47\n",
              "2       1        6     4.0  2000-07-30 18:37:04\n",
              "3       1       47     5.0  2000-07-30 19:03:35\n",
              "4       1       50     5.0  2000-07-30 18:48:51"
            ],
            "text/html": [
              "\n",
              "  <div id=\"df-7079cb9b-b2ad-46b4-84ee-af98c5b27358\" class=\"colab-df-container\">\n",
              "    <div>\n",
              "<style scoped>\n",
              "    .dataframe tbody tr th:only-of-type {\n",
              "        vertical-align: middle;\n",
              "    }\n",
              "\n",
              "    .dataframe tbody tr th {\n",
              "        vertical-align: top;\n",
              "    }\n",
              "\n",
              "    .dataframe thead th {\n",
              "        text-align: right;\n",
              "    }\n",
              "</style>\n",
              "<table border=\"1\" class=\"dataframe\">\n",
              "  <thead>\n",
              "    <tr style=\"text-align: right;\">\n",
              "      <th></th>\n",
              "      <th>userId</th>\n",
              "      <th>movieId</th>\n",
              "      <th>rating</th>\n",
              "      <th>fecha</th>\n",
              "    </tr>\n",
              "  </thead>\n",
              "  <tbody>\n",
              "    <tr>\n",
              "      <th>0</th>\n",
              "      <td>1</td>\n",
              "      <td>1</td>\n",
              "      <td>4.0</td>\n",
              "      <td>2000-07-30 18:45:03</td>\n",
              "    </tr>\n",
              "    <tr>\n",
              "      <th>1</th>\n",
              "      <td>1</td>\n",
              "      <td>3</td>\n",
              "      <td>4.0</td>\n",
              "      <td>2000-07-30 18:20:47</td>\n",
              "    </tr>\n",
              "    <tr>\n",
              "      <th>2</th>\n",
              "      <td>1</td>\n",
              "      <td>6</td>\n",
              "      <td>4.0</td>\n",
              "      <td>2000-07-30 18:37:04</td>\n",
              "    </tr>\n",
              "    <tr>\n",
              "      <th>3</th>\n",
              "      <td>1</td>\n",
              "      <td>47</td>\n",
              "      <td>5.0</td>\n",
              "      <td>2000-07-30 19:03:35</td>\n",
              "    </tr>\n",
              "    <tr>\n",
              "      <th>4</th>\n",
              "      <td>1</td>\n",
              "      <td>50</td>\n",
              "      <td>5.0</td>\n",
              "      <td>2000-07-30 18:48:51</td>\n",
              "    </tr>\n",
              "  </tbody>\n",
              "</table>\n",
              "</div>\n",
              "    <div class=\"colab-df-buttons\">\n",
              "\n",
              "  <div class=\"colab-df-container\">\n",
              "    <button class=\"colab-df-convert\" onclick=\"convertToInteractive('df-7079cb9b-b2ad-46b4-84ee-af98c5b27358')\"\n",
              "            title=\"Convert this dataframe to an interactive table.\"\n",
              "            style=\"display:none;\">\n",
              "\n",
              "  <svg xmlns=\"http://www.w3.org/2000/svg\" height=\"24px\" viewBox=\"0 -960 960 960\">\n",
              "    <path d=\"M120-120v-720h720v720H120Zm60-500h600v-160H180v160Zm220 220h160v-160H400v160Zm0 220h160v-160H400v160ZM180-400h160v-160H180v160Zm440 0h160v-160H620v160ZM180-180h160v-160H180v160Zm440 0h160v-160H620v160Z\"/>\n",
              "  </svg>\n",
              "    </button>\n",
              "\n",
              "  <style>\n",
              "    .colab-df-container {\n",
              "      display:flex;\n",
              "      gap: 12px;\n",
              "    }\n",
              "\n",
              "    .colab-df-convert {\n",
              "      background-color: #E8F0FE;\n",
              "      border: none;\n",
              "      border-radius: 50%;\n",
              "      cursor: pointer;\n",
              "      display: none;\n",
              "      fill: #1967D2;\n",
              "      height: 32px;\n",
              "      padding: 0 0 0 0;\n",
              "      width: 32px;\n",
              "    }\n",
              "\n",
              "    .colab-df-convert:hover {\n",
              "      background-color: #E2EBFA;\n",
              "      box-shadow: 0px 1px 2px rgba(60, 64, 67, 0.3), 0px 1px 3px 1px rgba(60, 64, 67, 0.15);\n",
              "      fill: #174EA6;\n",
              "    }\n",
              "\n",
              "    .colab-df-buttons div {\n",
              "      margin-bottom: 4px;\n",
              "    }\n",
              "\n",
              "    [theme=dark] .colab-df-convert {\n",
              "      background-color: #3B4455;\n",
              "      fill: #D2E3FC;\n",
              "    }\n",
              "\n",
              "    [theme=dark] .colab-df-convert:hover {\n",
              "      background-color: #434B5C;\n",
              "      box-shadow: 0px 1px 3px 1px rgba(0, 0, 0, 0.15);\n",
              "      filter: drop-shadow(0px 1px 2px rgba(0, 0, 0, 0.3));\n",
              "      fill: #FFFFFF;\n",
              "    }\n",
              "  </style>\n",
              "\n",
              "    <script>\n",
              "      const buttonEl =\n",
              "        document.querySelector('#df-7079cb9b-b2ad-46b4-84ee-af98c5b27358 button.colab-df-convert');\n",
              "      buttonEl.style.display =\n",
              "        google.colab.kernel.accessAllowed ? 'block' : 'none';\n",
              "\n",
              "      async function convertToInteractive(key) {\n",
              "        const element = document.querySelector('#df-7079cb9b-b2ad-46b4-84ee-af98c5b27358');\n",
              "        const dataTable =\n",
              "          await google.colab.kernel.invokeFunction('convertToInteractive',\n",
              "                                                    [key], {});\n",
              "        if (!dataTable) return;\n",
              "\n",
              "        const docLinkHtml = 'Like what you see? Visit the ' +\n",
              "          '<a target=\"_blank\" href=https://colab.research.google.com/notebooks/data_table.ipynb>data table notebook</a>'\n",
              "          + ' to learn more about interactive tables.';\n",
              "        element.innerHTML = '';\n",
              "        dataTable['output_type'] = 'display_data';\n",
              "        await google.colab.output.renderOutput(dataTable, element);\n",
              "        const docLink = document.createElement('div');\n",
              "        docLink.innerHTML = docLinkHtml;\n",
              "        element.appendChild(docLink);\n",
              "      }\n",
              "    </script>\n",
              "  </div>\n",
              "\n",
              "\n",
              "<div id=\"df-1425a388-184a-4832-9390-712309c8c006\">\n",
              "  <button class=\"colab-df-quickchart\" onclick=\"quickchart('df-1425a388-184a-4832-9390-712309c8c006')\"\n",
              "            title=\"Suggest charts\"\n",
              "            style=\"display:none;\">\n",
              "\n",
              "<svg xmlns=\"http://www.w3.org/2000/svg\" height=\"24px\"viewBox=\"0 0 24 24\"\n",
              "     width=\"24px\">\n",
              "    <g>\n",
              "        <path d=\"M19 3H5c-1.1 0-2 .9-2 2v14c0 1.1.9 2 2 2h14c1.1 0 2-.9 2-2V5c0-1.1-.9-2-2-2zM9 17H7v-7h2v7zm4 0h-2V7h2v10zm4 0h-2v-4h2v4z\"/>\n",
              "    </g>\n",
              "</svg>\n",
              "  </button>\n",
              "\n",
              "<style>\n",
              "  .colab-df-quickchart {\n",
              "      --bg-color: #E8F0FE;\n",
              "      --fill-color: #1967D2;\n",
              "      --hover-bg-color: #E2EBFA;\n",
              "      --hover-fill-color: #174EA6;\n",
              "      --disabled-fill-color: #AAA;\n",
              "      --disabled-bg-color: #DDD;\n",
              "  }\n",
              "\n",
              "  [theme=dark] .colab-df-quickchart {\n",
              "      --bg-color: #3B4455;\n",
              "      --fill-color: #D2E3FC;\n",
              "      --hover-bg-color: #434B5C;\n",
              "      --hover-fill-color: #FFFFFF;\n",
              "      --disabled-bg-color: #3B4455;\n",
              "      --disabled-fill-color: #666;\n",
              "  }\n",
              "\n",
              "  .colab-df-quickchart {\n",
              "    background-color: var(--bg-color);\n",
              "    border: none;\n",
              "    border-radius: 50%;\n",
              "    cursor: pointer;\n",
              "    display: none;\n",
              "    fill: var(--fill-color);\n",
              "    height: 32px;\n",
              "    padding: 0;\n",
              "    width: 32px;\n",
              "  }\n",
              "\n",
              "  .colab-df-quickchart:hover {\n",
              "    background-color: var(--hover-bg-color);\n",
              "    box-shadow: 0 1px 2px rgba(60, 64, 67, 0.3), 0 1px 3px 1px rgba(60, 64, 67, 0.15);\n",
              "    fill: var(--button-hover-fill-color);\n",
              "  }\n",
              "\n",
              "  .colab-df-quickchart-complete:disabled,\n",
              "  .colab-df-quickchart-complete:disabled:hover {\n",
              "    background-color: var(--disabled-bg-color);\n",
              "    fill: var(--disabled-fill-color);\n",
              "    box-shadow: none;\n",
              "  }\n",
              "\n",
              "  .colab-df-spinner {\n",
              "    border: 2px solid var(--fill-color);\n",
              "    border-color: transparent;\n",
              "    border-bottom-color: var(--fill-color);\n",
              "    animation:\n",
              "      spin 1s steps(1) infinite;\n",
              "  }\n",
              "\n",
              "  @keyframes spin {\n",
              "    0% {\n",
              "      border-color: transparent;\n",
              "      border-bottom-color: var(--fill-color);\n",
              "      border-left-color: var(--fill-color);\n",
              "    }\n",
              "    20% {\n",
              "      border-color: transparent;\n",
              "      border-left-color: var(--fill-color);\n",
              "      border-top-color: var(--fill-color);\n",
              "    }\n",
              "    30% {\n",
              "      border-color: transparent;\n",
              "      border-left-color: var(--fill-color);\n",
              "      border-top-color: var(--fill-color);\n",
              "      border-right-color: var(--fill-color);\n",
              "    }\n",
              "    40% {\n",
              "      border-color: transparent;\n",
              "      border-right-color: var(--fill-color);\n",
              "      border-top-color: var(--fill-color);\n",
              "    }\n",
              "    60% {\n",
              "      border-color: transparent;\n",
              "      border-right-color: var(--fill-color);\n",
              "    }\n",
              "    80% {\n",
              "      border-color: transparent;\n",
              "      border-right-color: var(--fill-color);\n",
              "      border-bottom-color: var(--fill-color);\n",
              "    }\n",
              "    90% {\n",
              "      border-color: transparent;\n",
              "      border-bottom-color: var(--fill-color);\n",
              "    }\n",
              "  }\n",
              "</style>\n",
              "\n",
              "  <script>\n",
              "    async function quickchart(key) {\n",
              "      const quickchartButtonEl =\n",
              "        document.querySelector('#' + key + ' button');\n",
              "      quickchartButtonEl.disabled = true;  // To prevent multiple clicks.\n",
              "      quickchartButtonEl.classList.add('colab-df-spinner');\n",
              "      try {\n",
              "        const charts = await google.colab.kernel.invokeFunction(\n",
              "            'suggestCharts', [key], {});\n",
              "      } catch (error) {\n",
              "        console.error('Error during call to suggestCharts:', error);\n",
              "      }\n",
              "      quickchartButtonEl.classList.remove('colab-df-spinner');\n",
              "      quickchartButtonEl.classList.add('colab-df-quickchart-complete');\n",
              "    }\n",
              "    (() => {\n",
              "      let quickchartButtonEl =\n",
              "        document.querySelector('#df-1425a388-184a-4832-9390-712309c8c006 button');\n",
              "      quickchartButtonEl.style.display =\n",
              "        google.colab.kernel.accessAllowed ? 'block' : 'none';\n",
              "    })();\n",
              "  </script>\n",
              "</div>\n",
              "\n",
              "    </div>\n",
              "  </div>\n"
            ],
            "application/vnd.google.colaboratory.intrinsic+json": {
              "type": "dataframe",
              "variable_name": "df"
            }
          },
          "metadata": {},
          "execution_count": 101
        }
      ]
    },
    {
      "cell_type": "markdown",
      "source": [
        "Procederemos hacer el punto 2.1 asociado a segmentación:\n",
        "\n",
        "* las 200 películas con mayor cantidad de votos\n",
        "* los usuarios que hayan votado al menos 100 películas\n",
        "\n",
        "Antes debemos revisar que no se presenten duplicados en el df"
      ],
      "metadata": {
        "id": "Aqr_-fYJ8V7U"
      }
    },
    {
      "cell_type": "code",
      "source": [
        "duplicados = df[df.duplicated(subset=['userId', 'movieId'], keep=False)]\n",
        "\n",
        "\n",
        "print(f'Cantidad de duplicado en df: {len(duplicados)}')"
      ],
      "metadata": {
        "colab": {
          "base_uri": "https://localhost:8080/"
        },
        "id": "3zH8Qg9h8s3m",
        "outputId": "f839219c-9dc3-4069-fbbc-220199b807fb"
      },
      "execution_count": null,
      "outputs": [
        {
          "output_type": "stream",
          "name": "stdout",
          "text": [
            "Cantidad de duplicado en df: 0\n"
          ]
        }
      ]
    },
    {
      "cell_type": "code",
      "source": [
        "# Creamos grupos por movieId para determinar cantidad de puntuaciones de c/u\n",
        "\n",
        "rating_top=df.groupby('movieId')['rating'].count()\n",
        "print(rating_top)"
      ],
      "metadata": {
        "colab": {
          "base_uri": "https://localhost:8080/"
        },
        "id": "mPfBqJGOZnRN",
        "outputId": "17008f82-bd14-4e09-a9a8-b6c88fc64b94"
      },
      "execution_count": null,
      "outputs": [
        {
          "output_type": "stream",
          "name": "stdout",
          "text": [
            "movieId\n",
            "1         215\n",
            "2         110\n",
            "3          52\n",
            "4           7\n",
            "5          49\n",
            "         ... \n",
            "193581      1\n",
            "193583      1\n",
            "193585      1\n",
            "193587      1\n",
            "193609      1\n",
            "Name: rating, Length: 9724, dtype: int64\n"
          ]
        }
      ]
    },
    {
      "cell_type": "code",
      "source": [
        "# Ordenamos de forma descencendante cada movieId segun cantidad de ratings\n",
        "\n",
        "rating_top_df=pd.DataFrame(rating_top).sort_values('rating',ascending=False)\n",
        "rating_top_df.reset_index(inplace=True)"
      ],
      "metadata": {
        "id": "FXh1K6_adeXK"
      },
      "execution_count": null,
      "outputs": []
    },
    {
      "cell_type": "code",
      "source": [
        "rating_top_df # corroboramos que este ordenado"
      ],
      "metadata": {
        "colab": {
          "base_uri": "https://localhost:8080/",
          "height": 423
        },
        "id": "BG-qZdVqfqde",
        "outputId": "2d63cf1e-37bd-47fa-c8ba-aeea7a3aec00"
      },
      "execution_count": null,
      "outputs": [
        {
          "output_type": "execute_result",
          "data": {
            "text/plain": [
              "      movieId  rating\n",
              "0         356     329\n",
              "1         318     317\n",
              "2         296     307\n",
              "3         593     279\n",
              "4        2571     278\n",
              "...       ...     ...\n",
              "9719     4093       1\n",
              "9720     4089       1\n",
              "9721    58351       1\n",
              "9722     4083       1\n",
              "9723   193609       1\n",
              "\n",
              "[9724 rows x 2 columns]"
            ],
            "text/html": [
              "\n",
              "  <div id=\"df-fe03be83-5e4c-4035-a3d6-959e451ce9ea\" class=\"colab-df-container\">\n",
              "    <div>\n",
              "<style scoped>\n",
              "    .dataframe tbody tr th:only-of-type {\n",
              "        vertical-align: middle;\n",
              "    }\n",
              "\n",
              "    .dataframe tbody tr th {\n",
              "        vertical-align: top;\n",
              "    }\n",
              "\n",
              "    .dataframe thead th {\n",
              "        text-align: right;\n",
              "    }\n",
              "</style>\n",
              "<table border=\"1\" class=\"dataframe\">\n",
              "  <thead>\n",
              "    <tr style=\"text-align: right;\">\n",
              "      <th></th>\n",
              "      <th>movieId</th>\n",
              "      <th>rating</th>\n",
              "    </tr>\n",
              "  </thead>\n",
              "  <tbody>\n",
              "    <tr>\n",
              "      <th>0</th>\n",
              "      <td>356</td>\n",
              "      <td>329</td>\n",
              "    </tr>\n",
              "    <tr>\n",
              "      <th>1</th>\n",
              "      <td>318</td>\n",
              "      <td>317</td>\n",
              "    </tr>\n",
              "    <tr>\n",
              "      <th>2</th>\n",
              "      <td>296</td>\n",
              "      <td>307</td>\n",
              "    </tr>\n",
              "    <tr>\n",
              "      <th>3</th>\n",
              "      <td>593</td>\n",
              "      <td>279</td>\n",
              "    </tr>\n",
              "    <tr>\n",
              "      <th>4</th>\n",
              "      <td>2571</td>\n",
              "      <td>278</td>\n",
              "    </tr>\n",
              "    <tr>\n",
              "      <th>...</th>\n",
              "      <td>...</td>\n",
              "      <td>...</td>\n",
              "    </tr>\n",
              "    <tr>\n",
              "      <th>9719</th>\n",
              "      <td>4093</td>\n",
              "      <td>1</td>\n",
              "    </tr>\n",
              "    <tr>\n",
              "      <th>9720</th>\n",
              "      <td>4089</td>\n",
              "      <td>1</td>\n",
              "    </tr>\n",
              "    <tr>\n",
              "      <th>9721</th>\n",
              "      <td>58351</td>\n",
              "      <td>1</td>\n",
              "    </tr>\n",
              "    <tr>\n",
              "      <th>9722</th>\n",
              "      <td>4083</td>\n",
              "      <td>1</td>\n",
              "    </tr>\n",
              "    <tr>\n",
              "      <th>9723</th>\n",
              "      <td>193609</td>\n",
              "      <td>1</td>\n",
              "    </tr>\n",
              "  </tbody>\n",
              "</table>\n",
              "<p>9724 rows × 2 columns</p>\n",
              "</div>\n",
              "    <div class=\"colab-df-buttons\">\n",
              "\n",
              "  <div class=\"colab-df-container\">\n",
              "    <button class=\"colab-df-convert\" onclick=\"convertToInteractive('df-fe03be83-5e4c-4035-a3d6-959e451ce9ea')\"\n",
              "            title=\"Convert this dataframe to an interactive table.\"\n",
              "            style=\"display:none;\">\n",
              "\n",
              "  <svg xmlns=\"http://www.w3.org/2000/svg\" height=\"24px\" viewBox=\"0 -960 960 960\">\n",
              "    <path d=\"M120-120v-720h720v720H120Zm60-500h600v-160H180v160Zm220 220h160v-160H400v160Zm0 220h160v-160H400v160ZM180-400h160v-160H180v160Zm440 0h160v-160H620v160ZM180-180h160v-160H180v160Zm440 0h160v-160H620v160Z\"/>\n",
              "  </svg>\n",
              "    </button>\n",
              "\n",
              "  <style>\n",
              "    .colab-df-container {\n",
              "      display:flex;\n",
              "      gap: 12px;\n",
              "    }\n",
              "\n",
              "    .colab-df-convert {\n",
              "      background-color: #E8F0FE;\n",
              "      border: none;\n",
              "      border-radius: 50%;\n",
              "      cursor: pointer;\n",
              "      display: none;\n",
              "      fill: #1967D2;\n",
              "      height: 32px;\n",
              "      padding: 0 0 0 0;\n",
              "      width: 32px;\n",
              "    }\n",
              "\n",
              "    .colab-df-convert:hover {\n",
              "      background-color: #E2EBFA;\n",
              "      box-shadow: 0px 1px 2px rgba(60, 64, 67, 0.3), 0px 1px 3px 1px rgba(60, 64, 67, 0.15);\n",
              "      fill: #174EA6;\n",
              "    }\n",
              "\n",
              "    .colab-df-buttons div {\n",
              "      margin-bottom: 4px;\n",
              "    }\n",
              "\n",
              "    [theme=dark] .colab-df-convert {\n",
              "      background-color: #3B4455;\n",
              "      fill: #D2E3FC;\n",
              "    }\n",
              "\n",
              "    [theme=dark] .colab-df-convert:hover {\n",
              "      background-color: #434B5C;\n",
              "      box-shadow: 0px 1px 3px 1px rgba(0, 0, 0, 0.15);\n",
              "      filter: drop-shadow(0px 1px 2px rgba(0, 0, 0, 0.3));\n",
              "      fill: #FFFFFF;\n",
              "    }\n",
              "  </style>\n",
              "\n",
              "    <script>\n",
              "      const buttonEl =\n",
              "        document.querySelector('#df-fe03be83-5e4c-4035-a3d6-959e451ce9ea button.colab-df-convert');\n",
              "      buttonEl.style.display =\n",
              "        google.colab.kernel.accessAllowed ? 'block' : 'none';\n",
              "\n",
              "      async function convertToInteractive(key) {\n",
              "        const element = document.querySelector('#df-fe03be83-5e4c-4035-a3d6-959e451ce9ea');\n",
              "        const dataTable =\n",
              "          await google.colab.kernel.invokeFunction('convertToInteractive',\n",
              "                                                    [key], {});\n",
              "        if (!dataTable) return;\n",
              "\n",
              "        const docLinkHtml = 'Like what you see? Visit the ' +\n",
              "          '<a target=\"_blank\" href=https://colab.research.google.com/notebooks/data_table.ipynb>data table notebook</a>'\n",
              "          + ' to learn more about interactive tables.';\n",
              "        element.innerHTML = '';\n",
              "        dataTable['output_type'] = 'display_data';\n",
              "        await google.colab.output.renderOutput(dataTable, element);\n",
              "        const docLink = document.createElement('div');\n",
              "        docLink.innerHTML = docLinkHtml;\n",
              "        element.appendChild(docLink);\n",
              "      }\n",
              "    </script>\n",
              "  </div>\n",
              "\n",
              "\n",
              "<div id=\"df-8f815c5a-60c9-4f96-aa7a-2a7a3221e1d3\">\n",
              "  <button class=\"colab-df-quickchart\" onclick=\"quickchart('df-8f815c5a-60c9-4f96-aa7a-2a7a3221e1d3')\"\n",
              "            title=\"Suggest charts\"\n",
              "            style=\"display:none;\">\n",
              "\n",
              "<svg xmlns=\"http://www.w3.org/2000/svg\" height=\"24px\"viewBox=\"0 0 24 24\"\n",
              "     width=\"24px\">\n",
              "    <g>\n",
              "        <path d=\"M19 3H5c-1.1 0-2 .9-2 2v14c0 1.1.9 2 2 2h14c1.1 0 2-.9 2-2V5c0-1.1-.9-2-2-2zM9 17H7v-7h2v7zm4 0h-2V7h2v10zm4 0h-2v-4h2v4z\"/>\n",
              "    </g>\n",
              "</svg>\n",
              "  </button>\n",
              "\n",
              "<style>\n",
              "  .colab-df-quickchart {\n",
              "      --bg-color: #E8F0FE;\n",
              "      --fill-color: #1967D2;\n",
              "      --hover-bg-color: #E2EBFA;\n",
              "      --hover-fill-color: #174EA6;\n",
              "      --disabled-fill-color: #AAA;\n",
              "      --disabled-bg-color: #DDD;\n",
              "  }\n",
              "\n",
              "  [theme=dark] .colab-df-quickchart {\n",
              "      --bg-color: #3B4455;\n",
              "      --fill-color: #D2E3FC;\n",
              "      --hover-bg-color: #434B5C;\n",
              "      --hover-fill-color: #FFFFFF;\n",
              "      --disabled-bg-color: #3B4455;\n",
              "      --disabled-fill-color: #666;\n",
              "  }\n",
              "\n",
              "  .colab-df-quickchart {\n",
              "    background-color: var(--bg-color);\n",
              "    border: none;\n",
              "    border-radius: 50%;\n",
              "    cursor: pointer;\n",
              "    display: none;\n",
              "    fill: var(--fill-color);\n",
              "    height: 32px;\n",
              "    padding: 0;\n",
              "    width: 32px;\n",
              "  }\n",
              "\n",
              "  .colab-df-quickchart:hover {\n",
              "    background-color: var(--hover-bg-color);\n",
              "    box-shadow: 0 1px 2px rgba(60, 64, 67, 0.3), 0 1px 3px 1px rgba(60, 64, 67, 0.15);\n",
              "    fill: var(--button-hover-fill-color);\n",
              "  }\n",
              "\n",
              "  .colab-df-quickchart-complete:disabled,\n",
              "  .colab-df-quickchart-complete:disabled:hover {\n",
              "    background-color: var(--disabled-bg-color);\n",
              "    fill: var(--disabled-fill-color);\n",
              "    box-shadow: none;\n",
              "  }\n",
              "\n",
              "  .colab-df-spinner {\n",
              "    border: 2px solid var(--fill-color);\n",
              "    border-color: transparent;\n",
              "    border-bottom-color: var(--fill-color);\n",
              "    animation:\n",
              "      spin 1s steps(1) infinite;\n",
              "  }\n",
              "\n",
              "  @keyframes spin {\n",
              "    0% {\n",
              "      border-color: transparent;\n",
              "      border-bottom-color: var(--fill-color);\n",
              "      border-left-color: var(--fill-color);\n",
              "    }\n",
              "    20% {\n",
              "      border-color: transparent;\n",
              "      border-left-color: var(--fill-color);\n",
              "      border-top-color: var(--fill-color);\n",
              "    }\n",
              "    30% {\n",
              "      border-color: transparent;\n",
              "      border-left-color: var(--fill-color);\n",
              "      border-top-color: var(--fill-color);\n",
              "      border-right-color: var(--fill-color);\n",
              "    }\n",
              "    40% {\n",
              "      border-color: transparent;\n",
              "      border-right-color: var(--fill-color);\n",
              "      border-top-color: var(--fill-color);\n",
              "    }\n",
              "    60% {\n",
              "      border-color: transparent;\n",
              "      border-right-color: var(--fill-color);\n",
              "    }\n",
              "    80% {\n",
              "      border-color: transparent;\n",
              "      border-right-color: var(--fill-color);\n",
              "      border-bottom-color: var(--fill-color);\n",
              "    }\n",
              "    90% {\n",
              "      border-color: transparent;\n",
              "      border-bottom-color: var(--fill-color);\n",
              "    }\n",
              "  }\n",
              "</style>\n",
              "\n",
              "  <script>\n",
              "    async function quickchart(key) {\n",
              "      const quickchartButtonEl =\n",
              "        document.querySelector('#' + key + ' button');\n",
              "      quickchartButtonEl.disabled = true;  // To prevent multiple clicks.\n",
              "      quickchartButtonEl.classList.add('colab-df-spinner');\n",
              "      try {\n",
              "        const charts = await google.colab.kernel.invokeFunction(\n",
              "            'suggestCharts', [key], {});\n",
              "      } catch (error) {\n",
              "        console.error('Error during call to suggestCharts:', error);\n",
              "      }\n",
              "      quickchartButtonEl.classList.remove('colab-df-spinner');\n",
              "      quickchartButtonEl.classList.add('colab-df-quickchart-complete');\n",
              "    }\n",
              "    (() => {\n",
              "      let quickchartButtonEl =\n",
              "        document.querySelector('#df-8f815c5a-60c9-4f96-aa7a-2a7a3221e1d3 button');\n",
              "      quickchartButtonEl.style.display =\n",
              "        google.colab.kernel.accessAllowed ? 'block' : 'none';\n",
              "    })();\n",
              "  </script>\n",
              "</div>\n",
              "\n",
              "  <div id=\"id_e2bd72d4-cb0d-4ca7-bcbd-9a4931ac5190\">\n",
              "    <style>\n",
              "      .colab-df-generate {\n",
              "        background-color: #E8F0FE;\n",
              "        border: none;\n",
              "        border-radius: 50%;\n",
              "        cursor: pointer;\n",
              "        display: none;\n",
              "        fill: #1967D2;\n",
              "        height: 32px;\n",
              "        padding: 0 0 0 0;\n",
              "        width: 32px;\n",
              "      }\n",
              "\n",
              "      .colab-df-generate:hover {\n",
              "        background-color: #E2EBFA;\n",
              "        box-shadow: 0px 1px 2px rgba(60, 64, 67, 0.3), 0px 1px 3px 1px rgba(60, 64, 67, 0.15);\n",
              "        fill: #174EA6;\n",
              "      }\n",
              "\n",
              "      [theme=dark] .colab-df-generate {\n",
              "        background-color: #3B4455;\n",
              "        fill: #D2E3FC;\n",
              "      }\n",
              "\n",
              "      [theme=dark] .colab-df-generate:hover {\n",
              "        background-color: #434B5C;\n",
              "        box-shadow: 0px 1px 3px 1px rgba(0, 0, 0, 0.15);\n",
              "        filter: drop-shadow(0px 1px 2px rgba(0, 0, 0, 0.3));\n",
              "        fill: #FFFFFF;\n",
              "      }\n",
              "    </style>\n",
              "    <button class=\"colab-df-generate\" onclick=\"generateWithVariable('rating_top_df')\"\n",
              "            title=\"Generate code using this dataframe.\"\n",
              "            style=\"display:none;\">\n",
              "\n",
              "  <svg xmlns=\"http://www.w3.org/2000/svg\" height=\"24px\"viewBox=\"0 0 24 24\"\n",
              "       width=\"24px\">\n",
              "    <path d=\"M7,19H8.4L18.45,9,17,7.55,7,17.6ZM5,21V16.75L18.45,3.32a2,2,0,0,1,2.83,0l1.4,1.43a1.91,1.91,0,0,1,.58,1.4,1.91,1.91,0,0,1-.58,1.4L9.25,21ZM18.45,9,17,7.55Zm-12,3A5.31,5.31,0,0,0,4.9,8.1,5.31,5.31,0,0,0,1,6.5,5.31,5.31,0,0,0,4.9,4.9,5.31,5.31,0,0,0,6.5,1,5.31,5.31,0,0,0,8.1,4.9,5.31,5.31,0,0,0,12,6.5,5.46,5.46,0,0,0,6.5,12Z\"/>\n",
              "  </svg>\n",
              "    </button>\n",
              "    <script>\n",
              "      (() => {\n",
              "      const buttonEl =\n",
              "        document.querySelector('#id_e2bd72d4-cb0d-4ca7-bcbd-9a4931ac5190 button.colab-df-generate');\n",
              "      buttonEl.style.display =\n",
              "        google.colab.kernel.accessAllowed ? 'block' : 'none';\n",
              "\n",
              "      buttonEl.onclick = () => {\n",
              "        google.colab.notebook.generateWithVariable('rating_top_df');\n",
              "      }\n",
              "      })();\n",
              "    </script>\n",
              "  </div>\n",
              "\n",
              "    </div>\n",
              "  </div>\n"
            ],
            "application/vnd.google.colaboratory.intrinsic+json": {
              "type": "dataframe",
              "variable_name": "rating_top_df",
              "summary": "{\n  \"name\": \"rating_top_df\",\n  \"rows\": 9724,\n  \"fields\": [\n    {\n      \"column\": \"movieId\",\n      \"properties\": {\n        \"dtype\": \"number\",\n        \"std\": 52191,\n        \"min\": 1,\n        \"max\": 193609,\n        \"num_unique_values\": 9724,\n        \"samples\": [\n          4105,\n          8511,\n          93766\n        ],\n        \"semantic_type\": \"\",\n        \"description\": \"\"\n      }\n    },\n    {\n      \"column\": \"rating\",\n      \"properties\": {\n        \"dtype\": \"number\",\n        \"std\": 22,\n        \"min\": 1,\n        \"max\": 329,\n        \"num_unique_values\": 177,\n        \"samples\": [\n          196,\n          141,\n          38\n        ],\n        \"semantic_type\": \"\",\n        \"description\": \"\"\n      }\n    }\n  ]\n}"
            }
          },
          "metadata": {},
          "execution_count": 105
        }
      ]
    },
    {
      "cell_type": "code",
      "source": [
        "# Creamos numpy array con la 200 peliculas con mas puntuaciones\n",
        "\n",
        "movies_top200=np.array(rating_top_df['movieId'].head(200))\n",
        "movies_top200"
      ],
      "metadata": {
        "colab": {
          "base_uri": "https://localhost:8080/"
        },
        "id": "Xs0OW0q2fDEx",
        "outputId": "59e3c9f1-35d7-461b-c289-fa2dc7b20f61"
      },
      "execution_count": null,
      "outputs": [
        {
          "output_type": "execute_result",
          "data": {
            "text/plain": [
              "array([  356,   318,   296,   593,  2571,   260,   480,   110,   589,\n",
              "         527,  2959,     1,  1196,    50,  2858,    47,   780,   150,\n",
              "        1198,  4993,  1210,   858,   457,   592,  5952,  2028,  7153,\n",
              "         588,   608,  2762,   380,    32,   364,  1270,   377,  3578,\n",
              "        4306,  1580,   590,   648,   344,  4226,   367, 58559,  6539,\n",
              "        1214,   595,  1036,   165,   500,  1265, 79132,  1197,  6377,\n",
              "        1704,   316,  2628,  1291,  1721,   153,  1136,   597,   293,\n",
              "        1193,  3793,   231,  4886,    10,  1089,  7361,  6874,  1240,\n",
              "        1221,  2329,    34,  1200,  1213,  1682,  8961,   541,  4995,\n",
              "         736,  5349,  1097,  2683,   733,  2716,  1206,  4973,  5445,\n",
              "        1073,  4963,   586, 33794,  1527,   208,   587,  5989,  1968,\n",
              "         185,  5418,  3147,  3996,   349,     2,  7438,  2918,  1258,\n",
              "         924,  4878,   253,  2115,   329,  1208,  4896, 48516,   539,\n",
              "        1732,  1923, 68954,   223, 60069,    39,   111,  2706,   357,\n",
              "         161,     6,   778,  5816,  1222,   292,   434,   454,  1517,\n",
              "       44191,   912,  4022,   104,  2997,   339, 72998,  3114,   750,\n",
              "        2987,  1617,  3949,  1784,  6365,  1961, 59315,  4027,  2502,\n",
              "        4011,  8368,   551,   919,   288,  2396,  5378,  8360,  2355,\n",
              "        1917,  1259,  1387,  3948,  1356,  2797,  2174, 48780,  1610,\n",
              "          21,  1080,  2012,  2916,    19, 68157,  2324,  2791,  2011,\n",
              "        5618,  2617,  1391,  1653,  1246,   141,  1393,  1307,  5218,\n",
              "       32587,   904,  1220,   410,    95,  1219,  3897,  1101,   788,\n",
              "          16,  1584])"
            ]
          },
          "metadata": {},
          "execution_count": 106
        }
      ]
    },
    {
      "cell_type": "code",
      "source": [
        "# corroboramos que tengamos 200 id peliculas\n",
        "\n",
        "len(movies_top200)"
      ],
      "metadata": {
        "colab": {
          "base_uri": "https://localhost:8080/"
        },
        "id": "-YNzKLJEbGIJ",
        "outputId": "73ffb2bb-acf1-4c39-aef3-aa63764137a2"
      },
      "execution_count": null,
      "outputs": [
        {
          "output_type": "execute_result",
          "data": {
            "text/plain": [
              "200"
            ]
          },
          "metadata": {},
          "execution_count": 107
        }
      ]
    },
    {
      "cell_type": "code",
      "source": [
        "# Creamos grupos por userID para determinar cantidad de puntuaciones de c/u\n",
        "\n",
        "user_top=df.groupby('userId')['rating'].count()\n",
        "print(user_top)"
      ],
      "metadata": {
        "colab": {
          "base_uri": "https://localhost:8080/"
        },
        "id": "E9SgGXxnhZaL",
        "outputId": "5d8adf8a-30dc-4a7b-c57a-c98ec7e43b99"
      },
      "execution_count": null,
      "outputs": [
        {
          "output_type": "stream",
          "name": "stdout",
          "text": [
            "userId\n",
            "1       232\n",
            "2        29\n",
            "3        39\n",
            "4       216\n",
            "5        44\n",
            "       ... \n",
            "606    1115\n",
            "607     187\n",
            "608     831\n",
            "609      37\n",
            "610    1302\n",
            "Name: rating, Length: 610, dtype: int64\n"
          ]
        }
      ]
    },
    {
      "cell_type": "code",
      "source": [
        "# Obtenemos df con todos los usuarios que puntuaron al menos 100 peliculas\n",
        "\n",
        "user_top_df=pd.DataFrame(user_top)\n",
        "user_top_df=user_top_df.reset_index().sort_values('rating',ascending=False)\n",
        "user_100_df=user_top_df[user_top_df['rating']>=100]"
      ],
      "metadata": {
        "id": "a8t2cntFj1hg"
      },
      "execution_count": null,
      "outputs": []
    },
    {
      "cell_type": "code",
      "source": [
        "user_100_df"
      ],
      "metadata": {
        "colab": {
          "base_uri": "https://localhost:8080/",
          "height": 423
        },
        "id": "KRv5zm-NnEp-",
        "outputId": "abe42397-c1f0-46b9-9b0a-da89fd8dd192"
      },
      "execution_count": null,
      "outputs": [
        {
          "output_type": "execute_result",
          "data": {
            "text/plain": [
              "     userId  rating\n",
              "413     414    2698\n",
              "598     599    2478\n",
              "473     474    2108\n",
              "447     448    1864\n",
              "273     274    1346\n",
              "..      ...     ...\n",
              "31       32     102\n",
              "600     601     101\n",
              "38       39     100\n",
              "603     604     100\n",
              "372     373     100\n",
              "\n",
              "[248 rows x 2 columns]"
            ],
            "text/html": [
              "\n",
              "  <div id=\"df-bd8b212e-97a6-4972-814e-6d905024ec75\" class=\"colab-df-container\">\n",
              "    <div>\n",
              "<style scoped>\n",
              "    .dataframe tbody tr th:only-of-type {\n",
              "        vertical-align: middle;\n",
              "    }\n",
              "\n",
              "    .dataframe tbody tr th {\n",
              "        vertical-align: top;\n",
              "    }\n",
              "\n",
              "    .dataframe thead th {\n",
              "        text-align: right;\n",
              "    }\n",
              "</style>\n",
              "<table border=\"1\" class=\"dataframe\">\n",
              "  <thead>\n",
              "    <tr style=\"text-align: right;\">\n",
              "      <th></th>\n",
              "      <th>userId</th>\n",
              "      <th>rating</th>\n",
              "    </tr>\n",
              "  </thead>\n",
              "  <tbody>\n",
              "    <tr>\n",
              "      <th>413</th>\n",
              "      <td>414</td>\n",
              "      <td>2698</td>\n",
              "    </tr>\n",
              "    <tr>\n",
              "      <th>598</th>\n",
              "      <td>599</td>\n",
              "      <td>2478</td>\n",
              "    </tr>\n",
              "    <tr>\n",
              "      <th>473</th>\n",
              "      <td>474</td>\n",
              "      <td>2108</td>\n",
              "    </tr>\n",
              "    <tr>\n",
              "      <th>447</th>\n",
              "      <td>448</td>\n",
              "      <td>1864</td>\n",
              "    </tr>\n",
              "    <tr>\n",
              "      <th>273</th>\n",
              "      <td>274</td>\n",
              "      <td>1346</td>\n",
              "    </tr>\n",
              "    <tr>\n",
              "      <th>...</th>\n",
              "      <td>...</td>\n",
              "      <td>...</td>\n",
              "    </tr>\n",
              "    <tr>\n",
              "      <th>31</th>\n",
              "      <td>32</td>\n",
              "      <td>102</td>\n",
              "    </tr>\n",
              "    <tr>\n",
              "      <th>600</th>\n",
              "      <td>601</td>\n",
              "      <td>101</td>\n",
              "    </tr>\n",
              "    <tr>\n",
              "      <th>38</th>\n",
              "      <td>39</td>\n",
              "      <td>100</td>\n",
              "    </tr>\n",
              "    <tr>\n",
              "      <th>603</th>\n",
              "      <td>604</td>\n",
              "      <td>100</td>\n",
              "    </tr>\n",
              "    <tr>\n",
              "      <th>372</th>\n",
              "      <td>373</td>\n",
              "      <td>100</td>\n",
              "    </tr>\n",
              "  </tbody>\n",
              "</table>\n",
              "<p>248 rows × 2 columns</p>\n",
              "</div>\n",
              "    <div class=\"colab-df-buttons\">\n",
              "\n",
              "  <div class=\"colab-df-container\">\n",
              "    <button class=\"colab-df-convert\" onclick=\"convertToInteractive('df-bd8b212e-97a6-4972-814e-6d905024ec75')\"\n",
              "            title=\"Convert this dataframe to an interactive table.\"\n",
              "            style=\"display:none;\">\n",
              "\n",
              "  <svg xmlns=\"http://www.w3.org/2000/svg\" height=\"24px\" viewBox=\"0 -960 960 960\">\n",
              "    <path d=\"M120-120v-720h720v720H120Zm60-500h600v-160H180v160Zm220 220h160v-160H400v160Zm0 220h160v-160H400v160ZM180-400h160v-160H180v160Zm440 0h160v-160H620v160ZM180-180h160v-160H180v160Zm440 0h160v-160H620v160Z\"/>\n",
              "  </svg>\n",
              "    </button>\n",
              "\n",
              "  <style>\n",
              "    .colab-df-container {\n",
              "      display:flex;\n",
              "      gap: 12px;\n",
              "    }\n",
              "\n",
              "    .colab-df-convert {\n",
              "      background-color: #E8F0FE;\n",
              "      border: none;\n",
              "      border-radius: 50%;\n",
              "      cursor: pointer;\n",
              "      display: none;\n",
              "      fill: #1967D2;\n",
              "      height: 32px;\n",
              "      padding: 0 0 0 0;\n",
              "      width: 32px;\n",
              "    }\n",
              "\n",
              "    .colab-df-convert:hover {\n",
              "      background-color: #E2EBFA;\n",
              "      box-shadow: 0px 1px 2px rgba(60, 64, 67, 0.3), 0px 1px 3px 1px rgba(60, 64, 67, 0.15);\n",
              "      fill: #174EA6;\n",
              "    }\n",
              "\n",
              "    .colab-df-buttons div {\n",
              "      margin-bottom: 4px;\n",
              "    }\n",
              "\n",
              "    [theme=dark] .colab-df-convert {\n",
              "      background-color: #3B4455;\n",
              "      fill: #D2E3FC;\n",
              "    }\n",
              "\n",
              "    [theme=dark] .colab-df-convert:hover {\n",
              "      background-color: #434B5C;\n",
              "      box-shadow: 0px 1px 3px 1px rgba(0, 0, 0, 0.15);\n",
              "      filter: drop-shadow(0px 1px 2px rgba(0, 0, 0, 0.3));\n",
              "      fill: #FFFFFF;\n",
              "    }\n",
              "  </style>\n",
              "\n",
              "    <script>\n",
              "      const buttonEl =\n",
              "        document.querySelector('#df-bd8b212e-97a6-4972-814e-6d905024ec75 button.colab-df-convert');\n",
              "      buttonEl.style.display =\n",
              "        google.colab.kernel.accessAllowed ? 'block' : 'none';\n",
              "\n",
              "      async function convertToInteractive(key) {\n",
              "        const element = document.querySelector('#df-bd8b212e-97a6-4972-814e-6d905024ec75');\n",
              "        const dataTable =\n",
              "          await google.colab.kernel.invokeFunction('convertToInteractive',\n",
              "                                                    [key], {});\n",
              "        if (!dataTable) return;\n",
              "\n",
              "        const docLinkHtml = 'Like what you see? Visit the ' +\n",
              "          '<a target=\"_blank\" href=https://colab.research.google.com/notebooks/data_table.ipynb>data table notebook</a>'\n",
              "          + ' to learn more about interactive tables.';\n",
              "        element.innerHTML = '';\n",
              "        dataTable['output_type'] = 'display_data';\n",
              "        await google.colab.output.renderOutput(dataTable, element);\n",
              "        const docLink = document.createElement('div');\n",
              "        docLink.innerHTML = docLinkHtml;\n",
              "        element.appendChild(docLink);\n",
              "      }\n",
              "    </script>\n",
              "  </div>\n",
              "\n",
              "\n",
              "<div id=\"df-b58fe356-f5db-4aed-abd8-ae3511e78f6e\">\n",
              "  <button class=\"colab-df-quickchart\" onclick=\"quickchart('df-b58fe356-f5db-4aed-abd8-ae3511e78f6e')\"\n",
              "            title=\"Suggest charts\"\n",
              "            style=\"display:none;\">\n",
              "\n",
              "<svg xmlns=\"http://www.w3.org/2000/svg\" height=\"24px\"viewBox=\"0 0 24 24\"\n",
              "     width=\"24px\">\n",
              "    <g>\n",
              "        <path d=\"M19 3H5c-1.1 0-2 .9-2 2v14c0 1.1.9 2 2 2h14c1.1 0 2-.9 2-2V5c0-1.1-.9-2-2-2zM9 17H7v-7h2v7zm4 0h-2V7h2v10zm4 0h-2v-4h2v4z\"/>\n",
              "    </g>\n",
              "</svg>\n",
              "  </button>\n",
              "\n",
              "<style>\n",
              "  .colab-df-quickchart {\n",
              "      --bg-color: #E8F0FE;\n",
              "      --fill-color: #1967D2;\n",
              "      --hover-bg-color: #E2EBFA;\n",
              "      --hover-fill-color: #174EA6;\n",
              "      --disabled-fill-color: #AAA;\n",
              "      --disabled-bg-color: #DDD;\n",
              "  }\n",
              "\n",
              "  [theme=dark] .colab-df-quickchart {\n",
              "      --bg-color: #3B4455;\n",
              "      --fill-color: #D2E3FC;\n",
              "      --hover-bg-color: #434B5C;\n",
              "      --hover-fill-color: #FFFFFF;\n",
              "      --disabled-bg-color: #3B4455;\n",
              "      --disabled-fill-color: #666;\n",
              "  }\n",
              "\n",
              "  .colab-df-quickchart {\n",
              "    background-color: var(--bg-color);\n",
              "    border: none;\n",
              "    border-radius: 50%;\n",
              "    cursor: pointer;\n",
              "    display: none;\n",
              "    fill: var(--fill-color);\n",
              "    height: 32px;\n",
              "    padding: 0;\n",
              "    width: 32px;\n",
              "  }\n",
              "\n",
              "  .colab-df-quickchart:hover {\n",
              "    background-color: var(--hover-bg-color);\n",
              "    box-shadow: 0 1px 2px rgba(60, 64, 67, 0.3), 0 1px 3px 1px rgba(60, 64, 67, 0.15);\n",
              "    fill: var(--button-hover-fill-color);\n",
              "  }\n",
              "\n",
              "  .colab-df-quickchart-complete:disabled,\n",
              "  .colab-df-quickchart-complete:disabled:hover {\n",
              "    background-color: var(--disabled-bg-color);\n",
              "    fill: var(--disabled-fill-color);\n",
              "    box-shadow: none;\n",
              "  }\n",
              "\n",
              "  .colab-df-spinner {\n",
              "    border: 2px solid var(--fill-color);\n",
              "    border-color: transparent;\n",
              "    border-bottom-color: var(--fill-color);\n",
              "    animation:\n",
              "      spin 1s steps(1) infinite;\n",
              "  }\n",
              "\n",
              "  @keyframes spin {\n",
              "    0% {\n",
              "      border-color: transparent;\n",
              "      border-bottom-color: var(--fill-color);\n",
              "      border-left-color: var(--fill-color);\n",
              "    }\n",
              "    20% {\n",
              "      border-color: transparent;\n",
              "      border-left-color: var(--fill-color);\n",
              "      border-top-color: var(--fill-color);\n",
              "    }\n",
              "    30% {\n",
              "      border-color: transparent;\n",
              "      border-left-color: var(--fill-color);\n",
              "      border-top-color: var(--fill-color);\n",
              "      border-right-color: var(--fill-color);\n",
              "    }\n",
              "    40% {\n",
              "      border-color: transparent;\n",
              "      border-right-color: var(--fill-color);\n",
              "      border-top-color: var(--fill-color);\n",
              "    }\n",
              "    60% {\n",
              "      border-color: transparent;\n",
              "      border-right-color: var(--fill-color);\n",
              "    }\n",
              "    80% {\n",
              "      border-color: transparent;\n",
              "      border-right-color: var(--fill-color);\n",
              "      border-bottom-color: var(--fill-color);\n",
              "    }\n",
              "    90% {\n",
              "      border-color: transparent;\n",
              "      border-bottom-color: var(--fill-color);\n",
              "    }\n",
              "  }\n",
              "</style>\n",
              "\n",
              "  <script>\n",
              "    async function quickchart(key) {\n",
              "      const quickchartButtonEl =\n",
              "        document.querySelector('#' + key + ' button');\n",
              "      quickchartButtonEl.disabled = true;  // To prevent multiple clicks.\n",
              "      quickchartButtonEl.classList.add('colab-df-spinner');\n",
              "      try {\n",
              "        const charts = await google.colab.kernel.invokeFunction(\n",
              "            'suggestCharts', [key], {});\n",
              "      } catch (error) {\n",
              "        console.error('Error during call to suggestCharts:', error);\n",
              "      }\n",
              "      quickchartButtonEl.classList.remove('colab-df-spinner');\n",
              "      quickchartButtonEl.classList.add('colab-df-quickchart-complete');\n",
              "    }\n",
              "    (() => {\n",
              "      let quickchartButtonEl =\n",
              "        document.querySelector('#df-b58fe356-f5db-4aed-abd8-ae3511e78f6e button');\n",
              "      quickchartButtonEl.style.display =\n",
              "        google.colab.kernel.accessAllowed ? 'block' : 'none';\n",
              "    })();\n",
              "  </script>\n",
              "</div>\n",
              "\n",
              "  <div id=\"id_2ce4d8e7-0f9a-409c-9eae-8897aa9480e2\">\n",
              "    <style>\n",
              "      .colab-df-generate {\n",
              "        background-color: #E8F0FE;\n",
              "        border: none;\n",
              "        border-radius: 50%;\n",
              "        cursor: pointer;\n",
              "        display: none;\n",
              "        fill: #1967D2;\n",
              "        height: 32px;\n",
              "        padding: 0 0 0 0;\n",
              "        width: 32px;\n",
              "      }\n",
              "\n",
              "      .colab-df-generate:hover {\n",
              "        background-color: #E2EBFA;\n",
              "        box-shadow: 0px 1px 2px rgba(60, 64, 67, 0.3), 0px 1px 3px 1px rgba(60, 64, 67, 0.15);\n",
              "        fill: #174EA6;\n",
              "      }\n",
              "\n",
              "      [theme=dark] .colab-df-generate {\n",
              "        background-color: #3B4455;\n",
              "        fill: #D2E3FC;\n",
              "      }\n",
              "\n",
              "      [theme=dark] .colab-df-generate:hover {\n",
              "        background-color: #434B5C;\n",
              "        box-shadow: 0px 1px 3px 1px rgba(0, 0, 0, 0.15);\n",
              "        filter: drop-shadow(0px 1px 2px rgba(0, 0, 0, 0.3));\n",
              "        fill: #FFFFFF;\n",
              "      }\n",
              "    </style>\n",
              "    <button class=\"colab-df-generate\" onclick=\"generateWithVariable('user_100_df')\"\n",
              "            title=\"Generate code using this dataframe.\"\n",
              "            style=\"display:none;\">\n",
              "\n",
              "  <svg xmlns=\"http://www.w3.org/2000/svg\" height=\"24px\"viewBox=\"0 0 24 24\"\n",
              "       width=\"24px\">\n",
              "    <path d=\"M7,19H8.4L18.45,9,17,7.55,7,17.6ZM5,21V16.75L18.45,3.32a2,2,0,0,1,2.83,0l1.4,1.43a1.91,1.91,0,0,1,.58,1.4,1.91,1.91,0,0,1-.58,1.4L9.25,21ZM18.45,9,17,7.55Zm-12,3A5.31,5.31,0,0,0,4.9,8.1,5.31,5.31,0,0,0,1,6.5,5.31,5.31,0,0,0,4.9,4.9,5.31,5.31,0,0,0,6.5,1,5.31,5.31,0,0,0,8.1,4.9,5.31,5.31,0,0,0,12,6.5,5.46,5.46,0,0,0,6.5,12Z\"/>\n",
              "  </svg>\n",
              "    </button>\n",
              "    <script>\n",
              "      (() => {\n",
              "      const buttonEl =\n",
              "        document.querySelector('#id_2ce4d8e7-0f9a-409c-9eae-8897aa9480e2 button.colab-df-generate');\n",
              "      buttonEl.style.display =\n",
              "        google.colab.kernel.accessAllowed ? 'block' : 'none';\n",
              "\n",
              "      buttonEl.onclick = () => {\n",
              "        google.colab.notebook.generateWithVariable('user_100_df');\n",
              "      }\n",
              "      })();\n",
              "    </script>\n",
              "  </div>\n",
              "\n",
              "    </div>\n",
              "  </div>\n"
            ],
            "application/vnd.google.colaboratory.intrinsic+json": {
              "type": "dataframe",
              "variable_name": "user_100_df",
              "summary": "{\n  \"name\": \"user_100_df\",\n  \"rows\": 248,\n  \"fields\": [\n    {\n      \"column\": \"userId\",\n      \"properties\": {\n        \"dtype\": \"number\",\n        \"std\": 183,\n        \"min\": 1,\n        \"max\": 610,\n        \"num_unique_values\": 248,\n        \"samples\": [\n          555,\n          68,\n          129\n        ],\n        \"semantic_type\": \"\",\n        \"description\": \"\"\n      }\n    },\n    {\n      \"column\": \"rating\",\n      \"properties\": {\n        \"dtype\": \"number\",\n        \"std\": 356,\n        \"min\": 100,\n        \"max\": 2698,\n        \"num_unique_values\": 186,\n        \"samples\": [\n          216,\n          126,\n          119\n        ],\n        \"semantic_type\": \"\",\n        \"description\": \"\"\n      }\n    }\n  ]\n}"
            }
          },
          "metadata": {},
          "execution_count": 110
        }
      ]
    },
    {
      "cell_type": "code",
      "source": [
        "# Generamos numpy array de userID que puntuaron al menos 100 peliculas\n",
        "\n",
        "users_100=np.array(user_100_df['userId'])\n",
        "users_100"
      ],
      "metadata": {
        "colab": {
          "base_uri": "https://localhost:8080/"
        },
        "id": "rzgMeFiPkt6Z",
        "outputId": "fff6ea3a-1ee1-4b9e-ab26-3b5e591c2875"
      },
      "execution_count": null,
      "outputs": [
        {
          "output_type": "execute_result",
          "data": {
            "text/plain": [
              "array([414, 599, 474, 448, 274, 610,  68, 380, 606, 288, 249, 387, 182,\n",
              "       307, 603, 298, 177, 318, 232, 480, 608, 600, 483, 590, 105,  19,\n",
              "       305, 489, 111, 438, 217, 140, 477, 555,  91,  28, 219, 534,  89,\n",
              "        64, 226, 561,  18, 525,  57, 381, 368, 509, 469, 560, 462, 292,\n",
              "        21, 597,  42, 294, 160, 580, 596, 202, 275, 517,  45, 156, 514,\n",
              "       391, 567, 357, 103, 339,  62, 199, 125,  51, 132,  66, 313, 200,\n",
              "       221,   6, 453,  50, 425, 428, 573, 352,  84, 122, 382, 356, 239,\n",
              "       135, 365, 484, 104,  63, 325, 169, 332, 290, 495, 432, 187, 328,\n",
              "       222, 212, 330,  20, 282, 372, 434, 594,   1, 562, 198,  82, 186,\n",
              "       354, 312, 605,  41,   4, 304, 119, 563, 263,  73, 586, 220, 246,\n",
              "       234, 452, 385, 522, 280, 139, 570, 166, 317, 552, 607, 195, 520,\n",
              "       367, 479, 266, 153,  74, 279, 256, 167, 331,  95, 141, 527, 410,\n",
              "        80, 587, 117, 346, 216, 265, 577, 564,  33, 419, 475, 572, 334,\n",
              "       260, 287,   7, 326, 233, 113, 247, 100, 420, 351, 408, 137,  47,\n",
              "       129, 559,  10, 230, 210, 464, 424, 602,  15,  27, 184, 376, 377,\n",
              "       524,  52, 268, 369, 314, 144, 482, 240, 109, 254, 411, 409, 551,\n",
              "       393, 437,  23, 492, 405,  76,  22,  83, 181, 465, 308, 301,  43,\n",
              "       466, 490, 542,  58, 115, 306, 571, 488, 136,  24, 201, 362, 510,\n",
              "       322,  59, 436, 286,  17, 593, 309,  40, 412,  32, 601,  39, 604,\n",
              "       373])"
            ]
          },
          "metadata": {},
          "execution_count": 111
        }
      ]
    },
    {
      "cell_type": "code",
      "source": [
        "# cantidad de usuarios que puntuaron al menos 100 peliculas\n",
        "\n",
        "len(users_100)"
      ],
      "metadata": {
        "colab": {
          "base_uri": "https://localhost:8080/"
        },
        "id": "pjpd6HF_bTAm",
        "outputId": "7623bd89-b0ee-450b-c592-f7eff2eba1c7"
      },
      "execution_count": null,
      "outputs": [
        {
          "output_type": "execute_result",
          "data": {
            "text/plain": [
              "248"
            ]
          },
          "metadata": {},
          "execution_count": 112
        }
      ]
    },
    {
      "cell_type": "code",
      "source": [
        "# Filtramos el dataset por movies_top200 & users_100\n",
        "\n",
        "df_filter = df[df['movieId'].isin(movies_top200) & df['userId'].isin(users_100)]"
      ],
      "metadata": {
        "id": "qhZq1Ig0lM5Q"
      },
      "execution_count": null,
      "outputs": []
    },
    {
      "cell_type": "code",
      "source": [
        "df_filter.info()"
      ],
      "metadata": {
        "colab": {
          "base_uri": "https://localhost:8080/"
        },
        "id": "yp420Loro6wo",
        "outputId": "da57329a-8cc1-4e5d-fbe9-b848c92b6f70"
      },
      "execution_count": null,
      "outputs": [
        {
          "output_type": "stream",
          "name": "stdout",
          "text": [
            "<class 'pandas.core.frame.DataFrame'>\n",
            "Index: 18588 entries, 0 to 100452\n",
            "Data columns (total 4 columns):\n",
            " #   Column   Non-Null Count  Dtype  \n",
            "---  ------   --------------  -----  \n",
            " 0   userId   18588 non-null  int64  \n",
            " 1   movieId  18588 non-null  int64  \n",
            " 2   rating   18588 non-null  float64\n",
            " 3   fecha    18588 non-null  object \n",
            "dtypes: float64(1), int64(2), object(1)\n",
            "memory usage: 726.1+ KB\n"
          ]
        }
      ]
    },
    {
      "cell_type": "code",
      "source": [
        "print(f\"La cantidad de valores unicos de peliculas es {len(df_filter.movieId.unique())} y la cantidad de usuarios unicos es {len(df_filter.userId.unique())}\")\n",
        "\n",
        " # Podemos observar que en el dataset filtrado aparecen las 200 peliculas más puntuadas como tambien los 248 usuarios que puntuaron al menos 100 peliculas"
      ],
      "metadata": {
        "colab": {
          "base_uri": "https://localhost:8080/"
        },
        "id": "QQFdev-2tzSP",
        "outputId": "a86af002-a198-4912-be28-61067e0038e0"
      },
      "execution_count": null,
      "outputs": [
        {
          "output_type": "stream",
          "name": "stdout",
          "text": [
            "La cantidad de valores unicos de peliculas es 200 y la cantidad de usuarios unicos es 248\n"
          ]
        }
      ]
    },
    {
      "cell_type": "code",
      "source": [
        "# Cardinalidad de columnas fecha\n",
        "\n",
        "print(f\"La cardinalidad de la feature fecha es: {len(df_filter.fecha.unique())}\")"
      ],
      "metadata": {
        "colab": {
          "base_uri": "https://localhost:8080/"
        },
        "id": "_eOwiCaKsoDS",
        "outputId": "7ac69ca9-955a-4c42-daa2-1637d8253972"
      },
      "execution_count": null,
      "outputs": [
        {
          "output_type": "stream",
          "name": "stdout",
          "text": [
            "La cardinalidad de la feature fecha es: 16947\n"
          ]
        }
      ]
    },
    {
      "cell_type": "markdown",
      "source": [
        "Podemos observar que la columna fecha tiene una cardinalidad = 16947 haremos dos aproach en la red:\n",
        "\n",
        "1. Dropear la columna\n",
        "2. Obtener el weekday para determinar si el dia de la semana afecta a la puntuacion de los usuarios sobre las peliculas"
      ],
      "metadata": {
        "id": "QJWUYaxxcelP"
      }
    },
    {
      "cell_type": "markdown",
      "source": [
        "1. Dropear la columna"
      ],
      "metadata": {
        "id": "imz6Kc5RtGHh"
      }
    },
    {
      "cell_type": "code",
      "source": [
        "df_filter_1=df_filter.copy()\n",
        "df_filter_1=df_filter_1.drop(columns=['fecha']) # Eliminamos fecha"
      ],
      "metadata": {
        "id": "x7m6lN0ccsmj"
      },
      "execution_count": null,
      "outputs": []
    },
    {
      "cell_type": "code",
      "source": [
        "targets=df_filter_1.rating.unique()\n",
        "min=np.min(targets)\n",
        "max=np.max(targets)\n",
        "\n",
        "print(f\"Los valores unicos de targets-rating son {np.sort(targets)}. El valor minimo encontrado es {min} mientra que el maximo es {max}\")"
      ],
      "metadata": {
        "colab": {
          "base_uri": "https://localhost:8080/"
        },
        "id": "o1z6Blu9eyDr",
        "outputId": "d96fa46c-0eda-4f6f-f06f-61570c6679f0"
      },
      "execution_count": null,
      "outputs": [
        {
          "output_type": "stream",
          "name": "stdout",
          "text": [
            "Los valores unicos de targets-rating son [0.5 1.  1.5 2.  2.5 3.  3.5 4.  4.5 5. ]. El valor minimo encontrado es 0.5 mientra que el maximo es 5.0\n"
          ]
        }
      ]
    },
    {
      "cell_type": "markdown",
      "source": [
        "Nos encontramos en un problema de regresión.  Por los valores unicos de los puntajes podemos deducir que la escala de puntuación es de 0 a 5, ya que el valor minimo es 0.5 y el maximo es 5.\n",
        "\n",
        "Se podría tomar la estragia de generar una nueva variable target y pasar de un problema de regresión a uno de clasificación (problemas más estudiados) con tres clases mediante la creacion de 3 bins y categorizar la variable.\n",
        "\n",
        "* Si 0 <= rating < 3 No recomendar. Clase 0\n",
        "* Si 3 <= rating < 4 Recomendación moderada. Clase 1\n",
        "* Si 4 <= rating < 5 Recomendación alta. Clase 2\n",
        "\n",
        "Pero debido a que el enunciado nos consulta sobre comparar sobre resultados reales del dataset evitaremos generar dichos bins para la transformación de un problema de regresión a clasificación. Sería una buena practica comparar resultados de ambas resoluciones\n",
        "\n"
      ],
      "metadata": {
        "id": "MoE0iBlIgFBs"
      }
    },
    {
      "cell_type": "code",
      "source": [
        "# Generacion de entradas y salida\n",
        "\n",
        "y=df_filter_1['rating']\n",
        "x_moviesid=df_filter_1['movieId']\n",
        "x_usersid=df_filter_1['userId']"
      ],
      "metadata": {
        "id": "trb13mspi5B6"
      },
      "execution_count": null,
      "outputs": []
    },
    {
      "cell_type": "code",
      "source": [
        "x_moviesid.info() # non nulls y valores numericos"
      ],
      "metadata": {
        "colab": {
          "base_uri": "https://localhost:8080/"
        },
        "id": "MbFNCXvJjROz",
        "outputId": "5c75aa8e-154d-45a3-fdcd-8b4b3bf7703e"
      },
      "execution_count": null,
      "outputs": [
        {
          "output_type": "stream",
          "name": "stdout",
          "text": [
            "<class 'pandas.core.series.Series'>\n",
            "Index: 18588 entries, 0 to 100452\n",
            "Series name: movieId\n",
            "Non-Null Count  Dtype\n",
            "--------------  -----\n",
            "18588 non-null  int64\n",
            "dtypes: int64(1)\n",
            "memory usage: 290.4 KB\n"
          ]
        }
      ]
    },
    {
      "cell_type": "code",
      "source": [
        "x_usersid.info() # non nulls y valores numericos"
      ],
      "metadata": {
        "colab": {
          "base_uri": "https://localhost:8080/"
        },
        "id": "hQoCFr-9k59P",
        "outputId": "110bd212-c623-4c83-94c9-6a477267102c"
      },
      "execution_count": null,
      "outputs": [
        {
          "output_type": "stream",
          "name": "stdout",
          "text": [
            "<class 'pandas.core.series.Series'>\n",
            "Index: 18588 entries, 0 to 100452\n",
            "Series name: userId\n",
            "Non-Null Count  Dtype\n",
            "--------------  -----\n",
            "18588 non-null  int64\n",
            "dtypes: int64(1)\n",
            "memory usage: 290.4 KB\n"
          ]
        }
      ]
    },
    {
      "cell_type": "code",
      "source": [
        "y.info() # non nulls y valores numericos"
      ],
      "metadata": {
        "colab": {
          "base_uri": "https://localhost:8080/"
        },
        "id": "pJ-vxFwAjZDS",
        "outputId": "4ba8ba24-d2e4-4df2-cf9f-2e46acf13479"
      },
      "execution_count": null,
      "outputs": [
        {
          "output_type": "stream",
          "name": "stdout",
          "text": [
            "<class 'pandas.core.series.Series'>\n",
            "Index: 18588 entries, 0 to 100452\n",
            "Series name: rating\n",
            "Non-Null Count  Dtype  \n",
            "--------------  -----  \n",
            "18588 non-null  float64\n",
            "dtypes: float64(1)\n",
            "memory usage: 290.4 KB\n"
          ]
        }
      ]
    },
    {
      "cell_type": "code",
      "source": [
        "# Split dataset: 85-15 (train-valid)\n",
        "\n",
        "idx = np.random.permutation(x_usersid.shape[0]) # tomamos indices aleatorios\n",
        "train_idx = idx[0:int(0.85*len(idx))]\n",
        "valid_idx = idx[int(0.85*len(idx)):]"
      ],
      "metadata": {
        "id": "zKkMZgPZlZ3f"
      },
      "execution_count": null,
      "outputs": []
    },
    {
      "cell_type": "code",
      "source": [
        "# Transformación de userId a indices (idx) consecutivos para utilizar embeddings\n",
        "\n",
        "user_id_to_idx = {value:i for i,value in enumerate(x_usersid.unique())}\n",
        "\n",
        "# Transformación de movieId a indices (idx) consecutivos para utilizar embeddings\n",
        "\n",
        "movie_id_to_idx = {value:i for i,value in enumerate(x_moviesid.unique())}\n"
      ],
      "metadata": {
        "id": "KQ9VHj0Cl2bi"
      },
      "execution_count": null,
      "outputs": []
    },
    {
      "cell_type": "code",
      "source": [
        "# Mapeo y transforma en narray\n",
        "\n",
        "user_idx=np.array([user_id_to_idx[value] for value in x_usersid])\n",
        "movie_idx=np.array([movie_id_to_idx[value] for value in x_moviesid])\n",
        "y=y.to_numpy()"
      ],
      "metadata": {
        "id": "dRL5T7QbmWeD"
      },
      "execution_count": null,
      "outputs": []
    },
    {
      "cell_type": "code",
      "source": [
        "# Train\n",
        "\n",
        "train_x_user=user_idx[train_idx]\n",
        "train_x_movie=movie_idx[train_idx]\n",
        "y_train=y[train_idx]\n",
        "\n",
        "# Valid\n",
        "\n",
        "valid_x_user=user_idx[valid_idx]\n",
        "valid_x_movie=movie_idx[valid_idx]\n",
        "y_valid=y[valid_idx]"
      ],
      "metadata": {
        "id": "CqsfXerfn0I3"
      },
      "execution_count": null,
      "outputs": []
    },
    {
      "cell_type": "code",
      "source": [
        "# Clase Dataset de Pytorch con Embeddings\n",
        "\n",
        "class DatasetEmbeddings(Dataset):\n",
        "  def __init__(self,user_idx,movie_idx,y):\n",
        "    self.user_idx=user_idx\n",
        "    self.movie_idx=movie_idx\n",
        "    self.y=y\n",
        "\n",
        "  def __len__(self):\n",
        "    return self.user_idx.shape[0]\n",
        "\n",
        "  def __getitem__(self, idx):\n",
        "    return self.user_idx[idx],self.movie_idx[idx], self.y[idx]\n"
      ],
      "metadata": {
        "id": "D9No-B6SpFki"
      },
      "execution_count": null,
      "outputs": []
    },
    {
      "cell_type": "code",
      "source": [
        "train_embeddings= DatasetEmbeddings(train_x_user,train_x_movie,y_train)\n",
        "valid_embedings= DatasetEmbeddings(valid_x_user,valid_x_movie,y_valid)"
      ],
      "metadata": {
        "id": "C8230VtJq4zd"
      },
      "execution_count": null,
      "outputs": []
    },
    {
      "cell_type": "code",
      "source": [
        "# Cargamos datos por lotes\n",
        "\n",
        "train_dataloader_emb=DataLoader(train_embeddings, batch_size=64, shuffle=True)\n",
        "valid_dataloader_emb=DataLoader(valid_embedings,batch_size=64)"
      ],
      "metadata": {
        "id": "LsI_w4-qr0Vl"
      },
      "execution_count": null,
      "outputs": []
    },
    {
      "cell_type": "code",
      "source": [
        "# Arquitectura de Red\n",
        "\n",
        "class NNetEmbeddings(torch.nn.Module):\n",
        "\n",
        "  def __init__(self):\n",
        "    super().__init__()\n",
        "    self.embeddings_1=torch.nn.Embedding(num_embeddings=248, embedding_dim=6)\n",
        "    self.embeddings_2=torch.nn.Embedding(num_embeddings=200, embedding_dim=4)\n",
        "    self.linear_1=torch.nn.Linear(in_features=6+4, out_features=200, bias=True)\n",
        "    self.bn_1 = torch.nn.BatchNorm1d(200)\n",
        "    self.dropout_1=torch.nn.Dropout(0.2)\n",
        "    self.relu_1=torch.nn.ReLU()\n",
        "    self.linear_2=torch.nn.Linear(in_features=200, out_features=100,bias=True)\n",
        "    self.bn_2 = torch.nn.BatchNorm1d(100)\n",
        "    self.dropout_2=torch.nn.Dropout(0.2)\n",
        "    self.relu_2=torch.nn.ReLU()\n",
        "    self.linear_3=torch.nn.Linear(in_features=100, out_features=10,bias=True)\n",
        "    self.bn_3 = torch.nn.BatchNorm1d(10)\n",
        "    self.dropout_3=torch.nn.Dropout(0.2)\n",
        "    self.relu_3=torch.nn.ReLU()\n",
        "    self.output=torch.nn.Linear(in_features=10, out_features=1)\n",
        "\n",
        "  def forward(self, user_idx,movie_idx):\n",
        "    embeddings_output_1=self.embeddings_1(user_idx)\n",
        "    embedings_output_2=self.embeddings_2(movie_idx)\n",
        "    x=torch.cat([embeddings_output_1,embedings_output_2], dim=1)\n",
        "    x = self.linear_1(x)\n",
        "    x = self.bn_1(x)\n",
        "    x = self.dropout_1(x)\n",
        "    x = self.relu_1(x)\n",
        "    x = self.linear_2(x)\n",
        "    x = self.bn_2(x)\n",
        "    x = self.dropout_2(x)\n",
        "    x = self.relu_2(x)\n",
        "    x = self.linear_3(x)\n",
        "    x = self.bn_3(x)\n",
        "    x = self.dropout_3(x)\n",
        "    x = self.relu_3(x)\n",
        "    x = self.output(x)\n",
        "    return x"
      ],
      "metadata": {
        "id": "QdI16d52y78U"
      },
      "execution_count": null,
      "outputs": []
    },
    {
      "cell_type": "code",
      "source": [
        "# inicializamos device\n",
        "\n",
        "device = \"cpu\"\n",
        "if torch.cuda.is_available():\n",
        "  device = \"cuda:0\"\n",
        "\n",
        "device"
      ],
      "metadata": {
        "colab": {
          "base_uri": "https://localhost:8080/",
          "height": 36
        },
        "id": "z2RYD2lNM10S",
        "outputId": "398ba7e9-40e1-45ae-9c22-47007d6a006f"
      },
      "execution_count": null,
      "outputs": [
        {
          "output_type": "execute_result",
          "data": {
            "text/plain": [
              "'cpu'"
            ],
            "application/vnd.google.colaboratory.intrinsic+json": {
              "type": "string"
            }
          },
          "metadata": {},
          "execution_count": 131
        }
      ]
    },
    {
      "cell_type": "code",
      "source": [
        "# Inicilializamos red y enviamos al device\n",
        "\n",
        "nnetembeddings=NNetEmbeddings()\n",
        "nnetembeddings.to(device)"
      ],
      "metadata": {
        "colab": {
          "base_uri": "https://localhost:8080/"
        },
        "id": "hQbRm60XM8pM",
        "outputId": "a33c1516-8acb-4b59-8519-53d8f4e6710e"
      },
      "execution_count": null,
      "outputs": [
        {
          "output_type": "execute_result",
          "data": {
            "text/plain": [
              "NNetEmbeddings(\n",
              "  (embeddings_1): Embedding(248, 6)\n",
              "  (embeddings_2): Embedding(200, 4)\n",
              "  (linear_1): Linear(in_features=10, out_features=200, bias=True)\n",
              "  (bn_1): BatchNorm1d(200, eps=1e-05, momentum=0.1, affine=True, track_running_stats=True)\n",
              "  (dropout_1): Dropout(p=0.2, inplace=False)\n",
              "  (relu_1): ReLU()\n",
              "  (linear_2): Linear(in_features=200, out_features=100, bias=True)\n",
              "  (bn_2): BatchNorm1d(100, eps=1e-05, momentum=0.1, affine=True, track_running_stats=True)\n",
              "  (dropout_2): Dropout(p=0.2, inplace=False)\n",
              "  (relu_2): ReLU()\n",
              "  (linear_3): Linear(in_features=100, out_features=10, bias=True)\n",
              "  (bn_3): BatchNorm1d(10, eps=1e-05, momentum=0.1, affine=True, track_running_stats=True)\n",
              "  (dropout_3): Dropout(p=0.2, inplace=False)\n",
              "  (relu_3): ReLU()\n",
              "  (output): Linear(in_features=10, out_features=1, bias=True)\n",
              ")"
            ]
          },
          "metadata": {},
          "execution_count": 132
        }
      ]
    },
    {
      "cell_type": "code",
      "source": [
        "# Defino loss y optimizer\n",
        "\n",
        "loss=torch.nn.MSELoss(reduction='sum')\n",
        "optimizer=torch.optim.Adam(nnetembeddings.parameters(),lr=0.001,weight_decay=0.01)\n"
      ],
      "metadata": {
        "id": "n-JoY42lNd4K"
      },
      "execution_count": null,
      "outputs": []
    },
    {
      "cell_type": "code",
      "source": [
        "epochs=50\n",
        "train_loss_by_epoch=[]\n",
        "valid_loss_by_epoch=[]\n",
        "\n",
        "# Epochs\n",
        "\n",
        "for epoch in range(epochs):\n",
        "  nnetembeddings.train()\n",
        "  train_epoch_loss=0\n",
        "  valid_epoch_loss=0\n",
        "  valid_epoch_y=[]\n",
        "  valid_epoch_y_hat=[]\n",
        "\n",
        "  # Entrenamiento\n",
        "\n",
        "  for i,data in enumerate(train_dataloader_emb):\n",
        "    embed_batch_1, embed_batch_2, y_batch= data\n",
        "    embed_batch_1= embed_batch_1.to(device).int()\n",
        "    embed_batch_2= embed_batch_2.to(device).int()\n",
        "    y_batch = y_batch.to(device).float().reshape(-1,1)\n",
        "\n",
        "    optimizer.zero_grad()\n",
        "    nnet_out=nnetembeddings(embed_batch_1,embed_batch_2)\n",
        "    y_batch_hat=nnet_out\n",
        "    loss_train=loss(y_batch_hat,y_batch)\n",
        "    loss_train.backward()\n",
        "    optimizer.step()\n",
        "    train_epoch_loss += loss_train.item()\n",
        "\n",
        "  # Validacion\n",
        "\n",
        "  nnetembeddings.eval()\n",
        "  with torch.no_grad():\n",
        "    for i, data in enumerate(valid_dataloader_emb):\n",
        "      embed_batch_1, embed_batch_2, y_batch= data\n",
        "      embed_batch_1= embed_batch_1.to(device).int()\n",
        "      embed_batch_2= embed_batch_2.to(device).int()\n",
        "      y_batch = y_batch.to(device).float().reshape(-1,1)\n",
        "\n",
        "      nnet_out = nnetembeddings(embed_batch_1,embed_batch_2)\n",
        "      y_batch_hat = nnet_out\n",
        "      loss_valid = loss(y_batch_hat, y_batch)\n",
        "      valid_epoch_loss += loss_valid.item()\n",
        "      valid_epoch_y += list(y_batch.detach().cpu().numpy())\n",
        "      valid_epoch_y_hat += list(y_batch_hat.detach().cpu().numpy())\n",
        "\n",
        "  # Normalizamos perdidas de Train y Valid\n",
        "\n",
        "  train_epoch_loss /= len(train_dataloader_emb.dataset)\n",
        "  valid_epoch_loss /= len(valid_dataloader_emb.dataset)\n",
        "\n",
        "  # Almacena las pérdidas por época\n",
        "\n",
        "  train_loss_by_epoch.append(train_epoch_loss)\n",
        "  valid_loss_by_epoch.append(valid_epoch_loss)\n",
        "  valid_mae = metrics.mean_absolute_error(valid_epoch_y, valid_epoch_y_hat)\n",
        "\n",
        "  # Imprimir progreso por epoca\n",
        "\n",
        "  print(f\"Epoca {epoch} - Pérdida de Entrenamiento: {train_epoch_loss:.3f} - Pérdida de Validación: {valid_epoch_loss:.3f} - MAE de Validación: {valid_mae:.3f}\")\n",
        "\n"
      ],
      "metadata": {
        "colab": {
          "base_uri": "https://localhost:8080/"
        },
        "id": "5l-LYpGMOPwp",
        "outputId": "352e1ca6-7bcc-4440-e406-84c233de2259"
      },
      "execution_count": null,
      "outputs": [
        {
          "output_type": "stream",
          "name": "stdout",
          "text": [
            "Epoca 0 - Pérdida de Entrenamiento: 6.424 - Pérdida de Validación: 2.549 - MAE de Validación: 1.408\n",
            "Epoca 1 - Pérdida de Entrenamiento: 1.825 - Pérdida de Validación: 0.936 - MAE de Validación: 0.772\n",
            "Epoca 2 - Pérdida de Entrenamiento: 1.500 - Pérdida de Validación: 0.924 - MAE de Validación: 0.773\n",
            "Epoca 3 - Pérdida de Entrenamiento: 1.436 - Pérdida de Validación: 0.893 - MAE de Validación: 0.756\n",
            "Epoca 4 - Pérdida de Entrenamiento: 1.385 - Pérdida de Validación: 0.882 - MAE de Validación: 0.746\n",
            "Epoca 5 - Pérdida de Entrenamiento: 1.331 - Pérdida de Validación: 0.849 - MAE de Validación: 0.728\n",
            "Epoca 6 - Pérdida de Entrenamiento: 1.295 - Pérdida de Validación: 0.846 - MAE de Validación: 0.732\n",
            "Epoca 7 - Pérdida de Entrenamiento: 1.269 - Pérdida de Validación: 0.810 - MAE de Validación: 0.709\n",
            "Epoca 8 - Pérdida de Entrenamiento: 1.233 - Pérdida de Validación: 0.839 - MAE de Validación: 0.730\n",
            "Epoca 9 - Pérdida de Entrenamiento: 1.180 - Pérdida de Validación: 0.823 - MAE de Validación: 0.719\n",
            "Epoca 10 - Pérdida de Entrenamiento: 1.173 - Pérdida de Validación: 0.798 - MAE de Validación: 0.701\n",
            "Epoca 11 - Pérdida de Entrenamiento: 1.140 - Pérdida de Validación: 0.810 - MAE de Validación: 0.711\n",
            "Epoca 12 - Pérdida de Entrenamiento: 1.109 - Pérdida de Validación: 0.792 - MAE de Validación: 0.694\n",
            "Epoca 13 - Pérdida de Entrenamiento: 1.049 - Pérdida de Validación: 0.782 - MAE de Validación: 0.691\n",
            "Epoca 14 - Pérdida de Entrenamiento: 1.025 - Pérdida de Validación: 0.755 - MAE de Validación: 0.678\n",
            "Epoca 15 - Pérdida de Entrenamiento: 1.008 - Pérdida de Validación: 0.748 - MAE de Validación: 0.674\n",
            "Epoca 16 - Pérdida de Entrenamiento: 0.960 - Pérdida de Validación: 0.744 - MAE de Validación: 0.674\n",
            "Epoca 17 - Pérdida de Entrenamiento: 0.939 - Pérdida de Validación: 0.718 - MAE de Validación: 0.655\n",
            "Epoca 18 - Pérdida de Entrenamiento: 0.910 - Pérdida de Validación: 0.723 - MAE de Validación: 0.657\n",
            "Epoca 19 - Pérdida de Entrenamiento: 0.892 - Pérdida de Validación: 0.727 - MAE de Validación: 0.661\n",
            "Epoca 20 - Pérdida de Entrenamiento: 0.866 - Pérdida de Validación: 0.721 - MAE de Validación: 0.658\n",
            "Epoca 21 - Pérdida de Entrenamiento: 0.843 - Pérdida de Validación: 0.716 - MAE de Validación: 0.656\n",
            "Epoca 22 - Pérdida de Entrenamiento: 0.814 - Pérdida de Validación: 0.695 - MAE de Validación: 0.642\n",
            "Epoca 23 - Pérdida de Entrenamiento: 0.803 - Pérdida de Validación: 0.696 - MAE de Validación: 0.643\n",
            "Epoca 24 - Pérdida de Entrenamiento: 0.789 - Pérdida de Validación: 0.688 - MAE de Validación: 0.634\n",
            "Epoca 25 - Pérdida de Entrenamiento: 0.780 - Pérdida de Validación: 0.685 - MAE de Validación: 0.636\n",
            "Epoca 26 - Pérdida de Entrenamiento: 0.753 - Pérdida de Validación: 0.681 - MAE de Validación: 0.632\n",
            "Epoca 27 - Pérdida de Entrenamiento: 0.744 - Pérdida de Validación: 0.682 - MAE de Validación: 0.634\n",
            "Epoca 28 - Pérdida de Entrenamiento: 0.729 - Pérdida de Validación: 0.677 - MAE de Validación: 0.632\n",
            "Epoca 29 - Pérdida de Entrenamiento: 0.721 - Pérdida de Validación: 0.674 - MAE de Validación: 0.627\n",
            "Epoca 30 - Pérdida de Entrenamiento: 0.713 - Pérdida de Validación: 0.676 - MAE de Validación: 0.627\n",
            "Epoca 31 - Pérdida de Entrenamiento: 0.710 - Pérdida de Validación: 0.673 - MAE de Validación: 0.626\n",
            "Epoca 32 - Pérdida de Entrenamiento: 0.710 - Pérdida de Validación: 0.665 - MAE de Validación: 0.620\n",
            "Epoca 33 - Pérdida de Entrenamiento: 0.690 - Pérdida de Validación: 0.675 - MAE de Validación: 0.630\n",
            "Epoca 34 - Pérdida de Entrenamiento: 0.693 - Pérdida de Validación: 0.668 - MAE de Validación: 0.620\n",
            "Epoca 35 - Pérdida de Entrenamiento: 0.679 - Pérdida de Validación: 0.668 - MAE de Validación: 0.624\n",
            "Epoca 36 - Pérdida de Entrenamiento: 0.684 - Pérdida de Validación: 0.665 - MAE de Validación: 0.619\n",
            "Epoca 37 - Pérdida de Entrenamiento: 0.673 - Pérdida de Validación: 0.666 - MAE de Validación: 0.623\n",
            "Epoca 38 - Pérdida de Entrenamiento: 0.672 - Pérdida de Validación: 0.663 - MAE de Validación: 0.618\n",
            "Epoca 39 - Pérdida de Entrenamiento: 0.671 - Pérdida de Validación: 0.661 - MAE de Validación: 0.617\n",
            "Epoca 40 - Pérdida de Entrenamiento: 0.673 - Pérdida de Validación: 0.662 - MAE de Validación: 0.617\n",
            "Epoca 41 - Pérdida de Entrenamiento: 0.663 - Pérdida de Validación: 0.663 - MAE de Validación: 0.615\n",
            "Epoca 42 - Pérdida de Entrenamiento: 0.665 - Pérdida de Validación: 0.667 - MAE de Validación: 0.618\n",
            "Epoca 43 - Pérdida de Entrenamiento: 0.661 - Pérdida de Validación: 0.667 - MAE de Validación: 0.622\n",
            "Epoca 44 - Pérdida de Entrenamiento: 0.666 - Pérdida de Validación: 0.663 - MAE de Validación: 0.616\n",
            "Epoca 45 - Pérdida de Entrenamiento: 0.655 - Pérdida de Validación: 0.665 - MAE de Validación: 0.614\n",
            "Epoca 46 - Pérdida de Entrenamiento: 0.658 - Pérdida de Validación: 0.663 - MAE de Validación: 0.615\n",
            "Epoca 47 - Pérdida de Entrenamiento: 0.655 - Pérdida de Validación: 0.667 - MAE de Validación: 0.618\n",
            "Epoca 48 - Pérdida de Entrenamiento: 0.656 - Pérdida de Validación: 0.664 - MAE de Validación: 0.616\n",
            "Epoca 49 - Pérdida de Entrenamiento: 0.650 - Pérdida de Validación: 0.666 - MAE de Validación: 0.619\n"
          ]
        }
      ]
    },
    {
      "cell_type": "code",
      "source": [
        "fig, ax = plt.subplots (1,1)\n",
        "\n",
        "ax.plot(train_loss_by_epoch, label='Perdida de Entrenamiento')\n",
        "ax.plot(valid_loss_by_epoch, label='Perdida de Validación')\n",
        "ax.set_xlabel('Épocas')\n",
        "ax.set_label('Pérdida')\n",
        "ax.set_title('Perdida de Entrenamiento y Validación por Época')\n",
        "ax.legend()\n",
        "plt.show()"
      ],
      "metadata": {
        "colab": {
          "base_uri": "https://localhost:8080/",
          "height": 476
        },
        "id": "qDyS5-6wiwt_",
        "outputId": "46f760bd-06ee-498b-b308-8e70557d4e53"
      },
      "execution_count": null,
      "outputs": [
        {
          "output_type": "display_data",
          "data": {
            "text/plain": [
              "<Figure size 640x480 with 1 Axes>"
            ],
            "image/png": "[encoded data removed]"
          },
          "metadata": {}
        }
      ]
    },
    {
      "cell_type": "markdown",
      "source": [
        "Podemos observar que al usar regularización L2 (weight decay) y Batch normalization el modelo no overfittea"
      ],
      "metadata": {
        "id": "iGKyDrRHsmrf"
      }
    },
    {
      "cell_type": "markdown",
      "source": [
        "3- Elegir un usuario al azar, una película que dicho usuario haya puntuado y verificar la predicción del modelo. Comparar con el puntaje real que el usuario asignó a dicha película."
      ],
      "metadata": {
        "id": "CWFUY19a_Fbg"
      }
    },
    {
      "cell_type": "code",
      "source": [
        "import random\n",
        "\n",
        "# Elegir un usuario al azar\n",
        "\n",
        "random_user_index = random.randint(0, len(train_x_user) - 1)\n",
        "random_user = train_x_user[random_user_index]\n",
        "random_user_movies = train_x_movie[train_x_user == random_user]\n",
        "\n",
        "# Elegir una película que el usuario haya puntuado\n",
        "\n",
        "random_movie_index = random.randint(0, len(random_user_movies) - 1)\n",
        "random_movie = random_user_movies[random_movie_index]\n",
        "\n",
        "# Obtener la puntuación real\n",
        "\n",
        "actual_rating = y_train[train_x_user == random_user][random_movie_index]\n",
        "\n",
        "# Convertir a tensores y pasar al dispositivo\n",
        "\n",
        "random_user_tensor = torch.tensor([random_user], dtype=torch.int64).to(device)\n",
        "random_movie_tensor = torch.tensor([random_movie], dtype=torch.int64).to(device)\n",
        "\n",
        "# Obtener la predicción del modelo\n",
        "\n",
        "nnetembeddings.eval()\n",
        "with torch.no_grad():\n",
        "    predicted_rating = nnetembeddings(random_user_tensor, random_movie_tensor).item()\n",
        "\n",
        "# Mostrar los resultados\n",
        "\n",
        "print(f\"Usuario ID: {random_user.item()}\")\n",
        "print(f\"Película ID: {random_movie.item()}\")\n",
        "print(f\"Puntuación real: {actual_rating.item()}\")\n",
        "print(f\"Predicción del modelo: {predicted_rating:.3f}\")\n"
      ],
      "metadata": {
        "colab": {
          "base_uri": "https://localhost:8080/"
        },
        "id": "w-YIrB98s0U9",
        "outputId": "d769e32e-ffdc-4ab6-b908-ecf3418f008b"
      },
      "execution_count": null,
      "outputs": [
        {
          "output_type": "stream",
          "name": "stdout",
          "text": [
            "Usuario ID: 30\n",
            "Película ID: 12\n",
            "Puntuación real: 4.0\n",
            "Predicción del modelo: 2.936\n"
          ]
        }
      ]
    },
    {
      "cell_type": "markdown",
      "source": [
        "4- Realizar una recomendación de película para el usuario del punto 3 utilizando los embeddings de usuario o los embeddings de películas. Comprobar si la recomendación es correcta haciendo una predicción del puntuaje con la red neuronal.\n",
        "\n",
        "La recomendación se realizará segun las siguientes condiciones:\n",
        "\n",
        "* Recomendar la pelicula que mayor puntaje de prediccion tenga siempre y cuando no la haya visto y su prediccion sea mayor a 3. Sino, recomendar la pelicula con mayor puntaje real."
      ],
      "metadata": {
        "id": "GlQDkE72_ItR"
      }
    },
    {
      "cell_type": "code",
      "source": [
        "nnetembeddings.eval()\n",
        "\n",
        "# Calcular las predicciones del modelo para todas las películas posibles\n",
        "\n",
        "all_movies_tensor = torch.arange(0, 200, dtype=torch.int64).to(device)\n",
        "predicted_ratings = []\n",
        "\n",
        "with torch.no_grad():\n",
        "    user_embedding = nnetembeddings.embeddings_1(random_user_tensor)\n",
        "    for movie in all_movies_tensor:\n",
        "        movie_tensor = torch.tensor([movie], dtype=torch.int64).to(device)\n",
        "        movie_embedding = nnetembeddings.embeddings_2(movie_tensor)\n",
        "        predicted_rating = nnetembeddings.output(torch.cat([user_embedding, movie_embedding], dim=1)).item()\n",
        "        predicted_ratings.append(predicted_rating)\n",
        "\n",
        "predicted_ratings_tensor = torch.tensor(predicted_ratings)\n",
        "\n",
        "# Obtener la película con la mayor predicción\n",
        "\n",
        "max_predicted_rating_index = torch.argmax(predicted_ratings_tensor)\n",
        "recommended_movie_index = max_predicted_rating_index.item()\n",
        "recommended_movie = all_movies_tensor[recommended_movie_index].item()\n",
        "predicted_rating_for_recommendation = predicted_ratings_tensor[recommended_movie_index].item()\n",
        "\n",
        "# Verificar si el usuario ha visto la película\n",
        "\n",
        "if recommended_movie not in random_user_movies:\n",
        "\n",
        "    # Si no la ha visto, recomendarla si la predicción es mayor o igual a 3\n",
        "\n",
        "    if predicted_rating_for_recommendation >= 3:\n",
        "        print(f\"Usuario ID: {random_user.item()}\")\n",
        "        print(f\"Película recomendada ID: {recommended_movie}\")\n",
        "        print(f\"Predicción del modelo para la película recomendada: {predicted_rating_for_recommendation:.3f}\")\n",
        "    else:\n",
        "        # Si no supera la predicción, buscar la película mejor valorada que haya visto\n",
        "\n",
        "        max_user_rating_index = torch.tensor(np.argmax(y_train[np.isin(train_x_movie, random_user_movies)]))\n",
        "        recommended_movie_index = max_user_rating_index.item()\n",
        "        recommended_movie = random_user_movies[recommended_movie_index].item()\n",
        "        actual_rating = y_train[(train_x_user == random_user) & (train_x_movie == recommended_movie)].item()\n",
        "        print(f\"Usuario ID: {random_user.item()}\")\n",
        "        print(f\"Película recomendada ID: {recommended_movie}\")\n",
        "        print(f\"Predicción del modelo para la película recomendada: {predicted_rating_for_recommendation:.3f}\")\n",
        "        print(f\"Puntuación real: {actual_rating}\")\n"
      ],
      "metadata": {
        "colab": {
          "base_uri": "https://localhost:8080/"
        },
        "id": "QN2mYnlk2BEj",
        "outputId": "3e327285-7962-4d7f-f249-47f3ea8ed15a"
      },
      "execution_count": null,
      "outputs": [
        {
          "output_type": "stream",
          "name": "stdout",
          "text": [
            "Usuario ID: 30\n",
            "Película recomendada ID: 110\n",
            "Predicción del modelo para la película recomendada: 3.701\n"
          ]
        }
      ]
    },
    {
      "cell_type": "markdown",
      "source": [
        "2. Obtener el weekday para determinar si el dia de la semana afecta a la puntuacion de los usuarios sobre las peliculas"
      ],
      "metadata": {
        "id": "uX0swqOemyle"
      }
    },
    {
      "cell_type": "code",
      "source": [
        "df_filter_2=df_filter.copy()\n",
        "df_filter_2['dow']=pd.to_datetime(df_filter_2['fecha']).dt.dayofweek"
      ],
      "metadata": {
        "id": "LktO5grKnbGH"
      },
      "execution_count": null,
      "outputs": []
    },
    {
      "cell_type": "code",
      "source": [
        "# dropeo columna fecha\n",
        "\n",
        "df_filter_2.drop(columns='fecha',inplace=True)"
      ],
      "metadata": {
        "id": "kwq--SqnpzCY"
      },
      "execution_count": null,
      "outputs": []
    },
    {
      "cell_type": "code",
      "source": [
        "df_filter_2.head() # corroboro que se haya eliminado columna fecha y creado dow\n"
      ],
      "metadata": {
        "colab": {
          "base_uri": "https://localhost:8080/",
          "height": 206
        },
        "id": "NXQP8Sm3qA23",
        "outputId": "38a3e4dc-2338-41ad-eb07-38e7e09d6203"
      },
      "execution_count": null,
      "outputs": [
        {
          "output_type": "execute_result",
          "data": {
            "text/plain": [
              "   userId  movieId  rating  dow\n",
              "0       1        1     4.0    6\n",
              "2       1        6     4.0    6\n",
              "3       1       47     5.0    6\n",
              "4       1       50     5.0    6\n",
              "7       1      110     4.0    6"
            ],
            "text/html": [
              "\n",
              "  <div id=\"df-63e10482-9dae-49b3-a49f-9d9a204a659a\" class=\"colab-df-container\">\n",
              "    <div>\n",
              "<style scoped>\n",
              "    .dataframe tbody tr th:only-of-type {\n",
              "        vertical-align: middle;\n",
              "    }\n",
              "\n",
              "    .dataframe tbody tr th {\n",
              "        vertical-align: top;\n",
              "    }\n",
              "\n",
              "    .dataframe thead th {\n",
              "        text-align: right;\n",
              "    }\n",
              "</style>\n",
              "<table border=\"1\" class=\"dataframe\">\n",
              "  <thead>\n",
              "    <tr style=\"text-align: right;\">\n",
              "      <th></th>\n",
              "      <th>userId</th>\n",
              "      <th>movieId</th>\n",
              "      <th>rating</th>\n",
              "      <th>dow</th>\n",
              "    </tr>\n",
              "  </thead>\n",
              "  <tbody>\n",
              "    <tr>\n",
              "      <th>0</th>\n",
              "      <td>1</td>\n",
              "      <td>1</td>\n",
              "      <td>4.0</td>\n",
              "      <td>6</td>\n",
              "    </tr>\n",
              "    <tr>\n",
              "      <th>2</th>\n",
              "      <td>1</td>\n",
              "      <td>6</td>\n",
              "      <td>4.0</td>\n",
              "      <td>6</td>\n",
              "    </tr>\n",
              "    <tr>\n",
              "      <th>3</th>\n",
              "      <td>1</td>\n",
              "      <td>47</td>\n",
              "      <td>5.0</td>\n",
              "      <td>6</td>\n",
              "    </tr>\n",
              "    <tr>\n",
              "      <th>4</th>\n",
              "      <td>1</td>\n",
              "      <td>50</td>\n",
              "      <td>5.0</td>\n",
              "      <td>6</td>\n",
              "    </tr>\n",
              "    <tr>\n",
              "      <th>7</th>\n",
              "      <td>1</td>\n",
              "      <td>110</td>\n",
              "      <td>4.0</td>\n",
              "      <td>6</td>\n",
              "    </tr>\n",
              "  </tbody>\n",
              "</table>\n",
              "</div>\n",
              "    <div class=\"colab-df-buttons\">\n",
              "\n",
              "  <div class=\"colab-df-container\">\n",
              "    <button class=\"colab-df-convert\" onclick=\"convertToInteractive('df-63e10482-9dae-49b3-a49f-9d9a204a659a')\"\n",
              "            title=\"Convert this dataframe to an interactive table.\"\n",
              "            style=\"display:none;\">\n",
              "\n",
              "  <svg xmlns=\"http://www.w3.org/2000/svg\" height=\"24px\" viewBox=\"0 -960 960 960\">\n",
              "    <path d=\"M120-120v-720h720v720H120Zm60-500h600v-160H180v160Zm220 220h160v-160H400v160Zm0 220h160v-160H400v160ZM180-400h160v-160H180v160Zm440 0h160v-160H620v160ZM180-180h160v-160H180v160Zm440 0h160v-160H620v160Z\"/>\n",
              "  </svg>\n",
              "    </button>\n",
              "\n",
              "  <style>\n",
              "    .colab-df-container {\n",
              "      display:flex;\n",
              "      gap: 12px;\n",
              "    }\n",
              "\n",
              "    .colab-df-convert {\n",
              "      background-color: #E8F0FE;\n",
              "      border: none;\n",
              "      border-radius: 50%;\n",
              "      cursor: pointer;\n",
              "      display: none;\n",
              "      fill: #1967D2;\n",
              "      height: 32px;\n",
              "      padding: 0 0 0 0;\n",
              "      width: 32px;\n",
              "    }\n",
              "\n",
              "    .colab-df-convert:hover {\n",
              "      background-color: #E2EBFA;\n",
              "      box-shadow: 0px 1px 2px rgba(60, 64, 67, 0.3), 0px 1px 3px 1px rgba(60, 64, 67, 0.15);\n",
              "      fill: #174EA6;\n",
              "    }\n",
              "\n",
              "    .colab-df-buttons div {\n",
              "      margin-bottom: 4px;\n",
              "    }\n",
              "\n",
              "    [theme=dark] .colab-df-convert {\n",
              "      background-color: #3B4455;\n",
              "      fill: #D2E3FC;\n",
              "    }\n",
              "\n",
              "    [theme=dark] .colab-df-convert:hover {\n",
              "      background-color: #434B5C;\n",
              "      box-shadow: 0px 1px 3px 1px rgba(0, 0, 0, 0.15);\n",
              "      filter: drop-shadow(0px 1px 2px rgba(0, 0, 0, 0.3));\n",
              "      fill: #FFFFFF;\n",
              "    }\n",
              "  </style>\n",
              "\n",
              "    <script>\n",
              "      const buttonEl =\n",
              "        document.querySelector('#df-63e10482-9dae-49b3-a49f-9d9a204a659a button.colab-df-convert');\n",
              "      buttonEl.style.display =\n",
              "        google.colab.kernel.accessAllowed ? 'block' : 'none';\n",
              "\n",
              "      async function convertToInteractive(key) {\n",
              "        const element = document.querySelector('#df-63e10482-9dae-49b3-a49f-9d9a204a659a');\n",
              "        const dataTable =\n",
              "          await google.colab.kernel.invokeFunction('convertToInteractive',\n",
              "                                                    [key], {});\n",
              "        if (!dataTable) return;\n",
              "\n",
              "        const docLinkHtml = 'Like what you see? Visit the ' +\n",
              "          '<a target=\"_blank\" href=https://colab.research.google.com/notebooks/data_table.ipynb>data table notebook</a>'\n",
              "          + ' to learn more about interactive tables.';\n",
              "        element.innerHTML = '';\n",
              "        dataTable['output_type'] = 'display_data';\n",
              "        await google.colab.output.renderOutput(dataTable, element);\n",
              "        const docLink = document.createElement('div');\n",
              "        docLink.innerHTML = docLinkHtml;\n",
              "        element.appendChild(docLink);\n",
              "      }\n",
              "    </script>\n",
              "  </div>\n",
              "\n",
              "\n",
              "<div id=\"df-750eef2d-7e01-4d57-98fd-a680b8b58bdf\">\n",
              "  <button class=\"colab-df-quickchart\" onclick=\"quickchart('df-750eef2d-7e01-4d57-98fd-a680b8b58bdf')\"\n",
              "            title=\"Suggest charts\"\n",
              "            style=\"display:none;\">\n",
              "\n",
              "<svg xmlns=\"http://www.w3.org/2000/svg\" height=\"24px\"viewBox=\"0 0 24 24\"\n",
              "     width=\"24px\">\n",
              "    <g>\n",
              "        <path d=\"M19 3H5c-1.1 0-2 .9-2 2v14c0 1.1.9 2 2 2h14c1.1 0 2-.9 2-2V5c0-1.1-.9-2-2-2zM9 17H7v-7h2v7zm4 0h-2V7h2v10zm4 0h-2v-4h2v4z\"/>\n",
              "    </g>\n",
              "</svg>\n",
              "  </button>\n",
              "\n",
              "<style>\n",
              "  .colab-df-quickchart {\n",
              "      --bg-color: #E8F0FE;\n",
              "      --fill-color: #1967D2;\n",
              "      --hover-bg-color: #E2EBFA;\n",
              "      --hover-fill-color: #174EA6;\n",
              "      --disabled-fill-color: #AAA;\n",
              "      --disabled-bg-color: #DDD;\n",
              "  }\n",
              "\n",
              "  [theme=dark] .colab-df-quickchart {\n",
              "      --bg-color: #3B4455;\n",
              "      --fill-color: #D2E3FC;\n",
              "      --hover-bg-color: #434B5C;\n",
              "      --hover-fill-color: #FFFFFF;\n",
              "      --disabled-bg-color: #3B4455;\n",
              "      --disabled-fill-color: #666;\n",
              "  }\n",
              "\n",
              "  .colab-df-quickchart {\n",
              "    background-color: var(--bg-color);\n",
              "    border: none;\n",
              "    border-radius: 50%;\n",
              "    cursor: pointer;\n",
              "    display: none;\n",
              "    fill: var(--fill-color);\n",
              "    height: 32px;\n",
              "    padding: 0;\n",
              "    width: 32px;\n",
              "  }\n",
              "\n",
              "  .colab-df-quickchart:hover {\n",
              "    background-color: var(--hover-bg-color);\n",
              "    box-shadow: 0 1px 2px rgba(60, 64, 67, 0.3), 0 1px 3px 1px rgba(60, 64, 67, 0.15);\n",
              "    fill: var(--button-hover-fill-color);\n",
              "  }\n",
              "\n",
              "  .colab-df-quickchart-complete:disabled,\n",
              "  .colab-df-quickchart-complete:disabled:hover {\n",
              "    background-color: var(--disabled-bg-color);\n",
              "    fill: var(--disabled-fill-color);\n",
              "    box-shadow: none;\n",
              "  }\n",
              "\n",
              "  .colab-df-spinner {\n",
              "    border: 2px solid var(--fill-color);\n",
              "    border-color: transparent;\n",
              "    border-bottom-color: var(--fill-color);\n",
              "    animation:\n",
              "      spin 1s steps(1) infinite;\n",
              "  }\n",
              "\n",
              "  @keyframes spin {\n",
              "    0% {\n",
              "      border-color: transparent;\n",
              "      border-bottom-color: var(--fill-color);\n",
              "      border-left-color: var(--fill-color);\n",
              "    }\n",
              "    20% {\n",
              "      border-color: transparent;\n",
              "      border-left-color: var(--fill-color);\n",
              "      border-top-color: var(--fill-color);\n",
              "    }\n",
              "    30% {\n",
              "      border-color: transparent;\n",
              "      border-left-color: var(--fill-color);\n",
              "      border-top-color: var(--fill-color);\n",
              "      border-right-color: var(--fill-color);\n",
              "    }\n",
              "    40% {\n",
              "      border-color: transparent;\n",
              "      border-right-color: var(--fill-color);\n",
              "      border-top-color: var(--fill-color);\n",
              "    }\n",
              "    60% {\n",
              "      border-color: transparent;\n",
              "      border-right-color: var(--fill-color);\n",
              "    }\n",
              "    80% {\n",
              "      border-color: transparent;\n",
              "      border-right-color: var(--fill-color);\n",
              "      border-bottom-color: var(--fill-color);\n",
              "    }\n",
              "    90% {\n",
              "      border-color: transparent;\n",
              "      border-bottom-color: var(--fill-color);\n",
              "    }\n",
              "  }\n",
              "</style>\n",
              "\n",
              "  <script>\n",
              "    async function quickchart(key) {\n",
              "      const quickchartButtonEl =\n",
              "        document.querySelector('#' + key + ' button');\n",
              "      quickchartButtonEl.disabled = true;  // To prevent multiple clicks.\n",
              "      quickchartButtonEl.classList.add('colab-df-spinner');\n",
              "      try {\n",
              "        const charts = await google.colab.kernel.invokeFunction(\n",
              "            'suggestCharts', [key], {});\n",
              "      } catch (error) {\n",
              "        console.error('Error during call to suggestCharts:', error);\n",
              "      }\n",
              "      quickchartButtonEl.classList.remove('colab-df-spinner');\n",
              "      quickchartButtonEl.classList.add('colab-df-quickchart-complete');\n",
              "    }\n",
              "    (() => {\n",
              "      let quickchartButtonEl =\n",
              "        document.querySelector('#df-750eef2d-7e01-4d57-98fd-a680b8b58bdf button');\n",
              "      quickchartButtonEl.style.display =\n",
              "        google.colab.kernel.accessAllowed ? 'block' : 'none';\n",
              "    })();\n",
              "  </script>\n",
              "</div>\n",
              "\n",
              "    </div>\n",
              "  </div>\n"
            ],
            "application/vnd.google.colaboratory.intrinsic+json": {
              "type": "dataframe",
              "variable_name": "df_filter_2",
              "summary": "{\n  \"name\": \"df_filter_2\",\n  \"rows\": 18588,\n  \"fields\": [\n    {\n      \"column\": \"userId\",\n      \"properties\": {\n        \"dtype\": \"number\",\n        \"std\": 181,\n        \"min\": 1,\n        \"max\": 610,\n        \"num_unique_values\": 248,\n        \"samples\": [\n          64,\n          17,\n          448\n        ],\n        \"semantic_type\": \"\",\n        \"description\": \"\"\n      }\n    },\n    {\n      \"column\": \"movieId\",\n      \"properties\": {\n        \"dtype\": \"number\",\n        \"std\": 12495,\n        \"min\": 1,\n        \"max\": 79132,\n        \"num_unique_values\": 200,\n        \"samples\": [\n          19,\n          500,\n          1136\n        ],\n        \"semantic_type\": \"\",\n        \"description\": \"\"\n      }\n    },\n    {\n      \"column\": \"rating\",\n      \"properties\": {\n        \"dtype\": \"number\",\n        \"std\": 0.9535280258419693,\n        \"min\": 0.5,\n        \"max\": 5.0,\n        \"num_unique_values\": 10,\n        \"samples\": [\n          1.5,\n          5.0,\n          4.5\n        ],\n        \"semantic_type\": \"\",\n        \"description\": \"\"\n      }\n    },\n    {\n      \"column\": \"dow\",\n      \"properties\": {\n        \"dtype\": \"int32\",\n        \"num_unique_values\": 7,\n        \"samples\": [\n          6,\n          1,\n          4\n        ],\n        \"semantic_type\": \"\",\n        \"description\": \"\"\n      }\n    }\n  ]\n}"
            }
          },
          "metadata": {},
          "execution_count": 140
        }
      ]
    },
    {
      "cell_type": "code",
      "source": [
        "# Realizamos one hoy encoding para dow\n",
        "\n",
        "one_hot_encoded = pd.get_dummies(df_filter_2['dow'], prefix='dow', drop_first=True)\n",
        "\n",
        "# Convertir los valores True/False a 0/1\n",
        "\n",
        "one_hot_encoded = one_hot_encoded.astype(int)\n",
        "\n",
        "# Concatenar las columnas one-hot al DataFrame original\n",
        "\n",
        "df_encoded = pd.concat([df_filter_2, one_hot_encoded], axis=1)\n",
        "\n",
        "print(df_encoded) # se obeserva que hay 6 dummies columns por lo que un dia de la semana no posee ratings"
      ],
      "metadata": {
        "colab": {
          "base_uri": "https://localhost:8080/"
        },
        "id": "5oac4grgqe4W",
        "outputId": "ea50dd94-dce4-40bc-9bb5-055a6c9933c1"
      },
      "execution_count": null,
      "outputs": [
        {
          "output_type": "stream",
          "name": "stdout",
          "text": [
            "        userId  movieId  rating  dow  dow_1  dow_2  dow_3  dow_4  dow_5  dow_6\n",
            "0            1        1     4.0    6      0      0      0      0      0      1\n",
            "2            1        6     4.0    6      0      0      0      0      0      1\n",
            "3            1       47     5.0    6      0      0      0      0      0      1\n",
            "4            1       50     5.0    6      0      0      0      0      0      1\n",
            "7            1      110     4.0    6      0      0      0      0      0      1\n",
            "...        ...      ...     ...  ...    ...    ...    ...    ...    ...    ...\n",
            "100326     610    60069     4.5    2      0      1      0      0      0      0\n",
            "100371     610    68157     5.0    2      0      1      0      0      0      0\n",
            "100380     610    68954     3.5    2      0      1      0      0      0      0\n",
            "100417     610    72998     4.5    5      0      0      0      0      1      0\n",
            "100452     610    79132     4.0    2      0      1      0      0      0      0\n",
            "\n",
            "[18588 rows x 10 columns]\n"
          ]
        }
      ]
    },
    {
      "cell_type": "code",
      "source": [
        "# dropeamos una de las dummies ya que con n-1 variables podemos descibir n\n",
        "# dropeamos dow ya que la describiremos con las dummies\n",
        "\n",
        "df_encoded.drop(columns=['dow_1','dow'],inplace=True)"
      ],
      "metadata": {
        "id": "DtF1ot3jrwlP"
      },
      "execution_count": null,
      "outputs": []
    },
    {
      "cell_type": "code",
      "source": [
        "y=df_encoded['rating']\n",
        "x=df_encoded[['dow_2','dow_3','dow_4','dow_5','dow_6']]\n",
        "x_moviesid=df_encoded['movieId']\n",
        "x_usersid=df_encoded['userId']"
      ],
      "metadata": {
        "id": "Of4-POUVrk_h"
      },
      "execution_count": null,
      "outputs": []
    },
    {
      "cell_type": "code",
      "source": [
        "y.info() # no hay valores nulos"
      ],
      "metadata": {
        "colab": {
          "base_uri": "https://localhost:8080/"
        },
        "id": "VudihE26sgcX",
        "outputId": "b710b6b3-209a-4c43-b3c2-085211038c2d"
      },
      "execution_count": null,
      "outputs": [
        {
          "output_type": "stream",
          "name": "stdout",
          "text": [
            "<class 'pandas.core.series.Series'>\n",
            "Index: 18588 entries, 0 to 100452\n",
            "Series name: rating\n",
            "Non-Null Count  Dtype  \n",
            "--------------  -----  \n",
            "18588 non-null  float64\n",
            "dtypes: float64(1)\n",
            "memory usage: 290.4 KB\n"
          ]
        }
      ]
    },
    {
      "cell_type": "code",
      "source": [
        "x.shape"
      ],
      "metadata": {
        "colab": {
          "base_uri": "https://localhost:8080/"
        },
        "id": "QWbv-Fh7skNq",
        "outputId": "d648aa33-82a7-48ea-bd07-a3d54aad61d7"
      },
      "execution_count": null,
      "outputs": [
        {
          "output_type": "execute_result",
          "data": {
            "text/plain": [
              "(18588, 5)"
            ]
          },
          "metadata": {},
          "execution_count": 145
        }
      ]
    },
    {
      "cell_type": "code",
      "source": [
        "x_moviesid.info() # no hay valores nulos"
      ],
      "metadata": {
        "colab": {
          "base_uri": "https://localhost:8080/"
        },
        "id": "kzIhimQ6smTU",
        "outputId": "8c52e812-9e8e-44c4-8e1d-982cecf9b0e5"
      },
      "execution_count": null,
      "outputs": [
        {
          "output_type": "stream",
          "name": "stdout",
          "text": [
            "<class 'pandas.core.series.Series'>\n",
            "Index: 18588 entries, 0 to 100452\n",
            "Series name: movieId\n",
            "Non-Null Count  Dtype\n",
            "--------------  -----\n",
            "18588 non-null  int64\n",
            "dtypes: int64(1)\n",
            "memory usage: 290.4 KB\n"
          ]
        }
      ]
    },
    {
      "cell_type": "code",
      "source": [
        "x_usersid.info() # no hay valores nulos"
      ],
      "metadata": {
        "colab": {
          "base_uri": "https://localhost:8080/"
        },
        "id": "xPtILrE5srXs",
        "outputId": "0ec24d16-d00d-4435-be3d-fae2d9c99dd1"
      },
      "execution_count": null,
      "outputs": [
        {
          "output_type": "stream",
          "name": "stdout",
          "text": [
            "<class 'pandas.core.series.Series'>\n",
            "Index: 18588 entries, 0 to 100452\n",
            "Series name: userId\n",
            "Non-Null Count  Dtype\n",
            "--------------  -----\n",
            "18588 non-null  int64\n",
            "dtypes: int64(1)\n",
            "memory usage: 290.4 KB\n"
          ]
        }
      ]
    },
    {
      "cell_type": "code",
      "source": [
        "# Transformo userId a indices (idx) consecutivos para utilizar embeddings\n",
        "\n",
        "user_id_to_idx = {value:i for i,value in enumerate(x_usersid.unique())}\n",
        "\n",
        "# Transformo movieId a indices (idx) consecutivos para utilizar embeddings\n",
        "\n",
        "movie_id_to_idx = {value:i for i,value in enumerate(x_moviesid.unique())}"
      ],
      "metadata": {
        "id": "Davxwo1stLJ8"
      },
      "execution_count": null,
      "outputs": []
    },
    {
      "cell_type": "code",
      "source": [
        "# Mapeo y transforma en narray\n",
        "\n",
        "x=x.to_numpy()\n",
        "user_idx=np.array([user_id_to_idx[value] for value in x_usersid])\n",
        "movie_idx=np.array([movie_id_to_idx[value] for value in x_moviesid])\n",
        "y=y.to_numpy()"
      ],
      "metadata": {
        "id": "D4uTs3MTtPBv"
      },
      "execution_count": null,
      "outputs": []
    },
    {
      "cell_type": "code",
      "source": [
        "# Train\n",
        "\n",
        "x_train=x[train_idx]\n",
        "train_x_user=user_idx[train_idx]\n",
        "train_x_movie=movie_idx[train_idx]\n",
        "y_train=y[train_idx]\n",
        "\n",
        "# Valid\n",
        "\n",
        "x_valid=x[valid_idx]\n",
        "valid_x_user=user_idx[valid_idx]\n",
        "valid_x_movie=movie_idx[valid_idx]\n",
        "y_valid=y[valid_idx]"
      ],
      "metadata": {
        "id": "bV3MU6cWtZuV"
      },
      "execution_count": null,
      "outputs": []
    },
    {
      "cell_type": "code",
      "source": [
        "class DatasetEmbeddings_2(Dataset):\n",
        "  def __init__(self,x,user_idx,movie_idx,y):\n",
        "    self.x=x\n",
        "    self.user_idx=user_idx\n",
        "    self.movie_idx=movie_idx\n",
        "    self.y=y\n",
        "\n",
        "  def __len__(self):\n",
        "    return self.x.shape[0]\n",
        "\n",
        "  def __getitem__(self, idx):\n",
        "    return self.x[idx],self.user_idx[idx],self.movie_idx[idx], self.y[idx]"
      ],
      "metadata": {
        "id": "WlnGi_Fmtoja"
      },
      "execution_count": null,
      "outputs": []
    },
    {
      "cell_type": "code",
      "source": [
        "train_embeddings= DatasetEmbeddings_2(x_train,train_x_user,train_x_movie,y_train)\n",
        "valid_embedings= DatasetEmbeddings_2(x_valid,valid_x_user,valid_x_movie,y_valid)"
      ],
      "metadata": {
        "id": "awKzBwe8t58Q"
      },
      "execution_count": null,
      "outputs": []
    },
    {
      "cell_type": "code",
      "source": [
        "train_dataloader_emb=DataLoader(train_embeddings, batch_size=64, shuffle=True)\n",
        "valid_dataloader_emb=DataLoader(valid_embedings,batch_size=64)"
      ],
      "metadata": {
        "id": "MjZwn9ZPuUDz"
      },
      "execution_count": null,
      "outputs": []
    },
    {
      "cell_type": "code",
      "source": [
        "# Arquitectura de Red\n",
        "\n",
        "class NNetEmbeddings_2(torch.nn.Module):\n",
        "\n",
        "  def __init__(self):\n",
        "    super().__init__()\n",
        "    self.embeddings_1=torch.nn.Embedding(num_embeddings=248, embedding_dim=6)\n",
        "    self.embeddings_2=torch.nn.Embedding(num_embeddings=200, embedding_dim=4)\n",
        "    self.linear_1=torch.nn.Linear(in_features=6+4+5, out_features=200, bias=True)\n",
        "    self.bn_1 = torch.nn.BatchNorm1d(200)\n",
        "    self.dropout_1=torch.nn.Dropout(0.2)\n",
        "    self.relu_1=torch.nn.ReLU()\n",
        "    self.linear_2=torch.nn.Linear(in_features=200, out_features=100,bias=True)\n",
        "    self.bn_2 = torch.nn.BatchNorm1d(100)\n",
        "    self.dropout_2=torch.nn.Dropout(0.2)\n",
        "    self.relu_2=torch.nn.ReLU()\n",
        "    self.linear_3=torch.nn.Linear(in_features=100, out_features=10,bias=True)\n",
        "    self.bn_3 = torch.nn.BatchNorm1d(10)\n",
        "    self.dropout_3=torch.nn.Dropout(0.2)\n",
        "    self.relu_3=torch.nn.ReLU()\n",
        "    self.output=torch.nn.Linear(in_features=10, out_features=1)\n",
        "\n",
        "  def forward(self, x, user_idx, movie_idx):\n",
        "    embeddings_output_1=self.embeddings_1(user_idx)\n",
        "    embedings_output_2=self.embeddings_2(movie_idx)\n",
        "    x=torch.cat([x,embeddings_output_1,embedings_output_2], dim=1)\n",
        "    x = self.linear_1(x)\n",
        "    x = self.bn_1(x)\n",
        "    x = self.dropout_1(x)\n",
        "    x = self.relu_1(x)\n",
        "    x = self.linear_2(x)\n",
        "    x = self.bn_2(x)\n",
        "    x = self.dropout_2(x)\n",
        "    x = self.relu_2(x)\n",
        "    x = self.linear_3(x)\n",
        "    x = self.bn_3(x)\n",
        "    x = self.dropout_3(x)\n",
        "    x = self.relu_3(x)\n",
        "    x = self.output(x)\n",
        "    return x"
      ],
      "metadata": {
        "id": "R42ScN5EuXrj"
      },
      "execution_count": null,
      "outputs": []
    },
    {
      "cell_type": "code",
      "source": [
        "device = \"cpu\"\n",
        "if torch.cuda.is_available():\n",
        "  device = \"cuda:0\"\n",
        "\n",
        "device"
      ],
      "metadata": {
        "colab": {
          "base_uri": "https://localhost:8080/",
          "height": 36
        },
        "id": "Qs0sasWbu3ri",
        "outputId": "294bbfea-cbf6-4075-b95b-822ecd0ea8e9"
      },
      "execution_count": null,
      "outputs": [
        {
          "output_type": "execute_result",
          "data": {
            "text/plain": [
              "'cpu'"
            ],
            "application/vnd.google.colaboratory.intrinsic+json": {
              "type": "string"
            }
          },
          "metadata": {},
          "execution_count": 155
        }
      ]
    },
    {
      "cell_type": "code",
      "source": [
        "# Inicializo la red\n",
        "\n",
        "nnetembeddings_2=NNetEmbeddings_2()\n",
        "nnetembeddings_2.to(device)\n",
        "\n",
        "# Defino Loss y optimizer\n",
        "\n",
        "loss=torch.nn.MSELoss(reduction='sum')\n",
        "optimizer=torch.optim.Adam(nnetembeddings_2.parameters(),lr=0.001,weight_decay=0.01)"
      ],
      "metadata": {
        "id": "B6jNls9Lu9n8"
      },
      "execution_count": null,
      "outputs": []
    },
    {
      "cell_type": "code",
      "source": [
        "epochs=50\n",
        "train_loss_by_epoch=[]\n",
        "valid_loss_by_epoch=[]\n",
        "\n",
        "# Epochs\n",
        "\n",
        "for epoch in range(epochs):\n",
        "  nnetembeddings_2.train()\n",
        "  train_epoch_loss=0\n",
        "  valid_epoch_loss=0\n",
        "  valid_epoch_y=[]\n",
        "  valid_epoch_y_hat=[]\n",
        "\n",
        "  # Entrenamiento\n",
        "\n",
        "  for i,data in enumerate(train_dataloader_emb):\n",
        "    x,embed_batch_1, embed_batch_2, y_batch= data\n",
        "    x=x.to(device).int()\n",
        "    embed_batch_1= embed_batch_1.to(device).int()\n",
        "    embed_batch_2= embed_batch_2.to(device).int()\n",
        "    y_batch = y_batch.to(device).float().reshape(-1,1)\n",
        "\n",
        "    optimizer.zero_grad()\n",
        "    nnet_out=nnetembeddings_2(x,embed_batch_1,embed_batch_2)\n",
        "    y_batch_hat=nnet_out\n",
        "    loss_train=loss(y_batch_hat,y_batch)\n",
        "    loss_train.backward()\n",
        "    optimizer.step()\n",
        "    train_epoch_loss += loss_train.item()\n",
        "\n",
        "  # Validacion\n",
        "\n",
        "  nnetembeddings_2.eval()\n",
        "  with torch.no_grad():\n",
        "    for i, data in enumerate(valid_dataloader_emb):\n",
        "      x,embed_batch_1, embed_batch_2, y_batch= data\n",
        "      x=x.to(device).int()\n",
        "      embed_batch_1= embed_batch_1.to(device).int()\n",
        "      embed_batch_2= embed_batch_2.to(device).int()\n",
        "      y_batch = y_batch.to(device).float().reshape(-1,1)\n",
        "\n",
        "      nnet_out = nnetembeddings_2(x,embed_batch_1,embed_batch_2)\n",
        "      y_batch_hat = nnet_out\n",
        "      loss_valid = loss(y_batch_hat, y_batch)\n",
        "      valid_epoch_loss += loss_valid.item()\n",
        "      valid_epoch_y += list(y_batch.detach().cpu().numpy())\n",
        "      valid_epoch_y_hat += list(y_batch_hat.detach().cpu().numpy())\n",
        "\n",
        "  # Normalizamos perdidas de Train y Valid\n",
        "\n",
        "  train_epoch_loss /= len(train_dataloader_emb.dataset)\n",
        "  valid_epoch_loss /= len(valid_dataloader_emb.dataset)\n",
        "\n",
        "  # Almacena las pérdidas por época\n",
        "\n",
        "  train_loss_by_epoch.append(train_epoch_loss)\n",
        "  valid_loss_by_epoch.append(valid_epoch_loss)\n",
        "  valid_mae = metrics.mean_absolute_error(valid_epoch_y, valid_epoch_y_hat)\n",
        "\n",
        "  # Imprimir progreso por epoca\n",
        "\n",
        "  print(f\"Epoca {epoch} - Pérdida de Entrenamiento: {train_epoch_loss:.3f} - Pérdida de Validación: {valid_epoch_loss:.3f}- MAE de Validación: {valid_mae:.3f}\")"
      ],
      "metadata": {
        "colab": {
          "base_uri": "https://localhost:8080/"
        },
        "id": "UvVPDhvVvTud",
        "outputId": "6d34cf1f-6915-41c2-aa36-16e28f104cab"
      },
      "execution_count": null,
      "outputs": [
        {
          "output_type": "stream",
          "name": "stdout",
          "text": [
            "Epoca 0 - Pérdida de Entrenamiento: 9.317 - Pérdida de Validación: 4.768- MAE de Validación: 2.011\n",
            "Epoca 1 - Pérdida de Entrenamiento: 2.731 - Pérdida de Validación: 1.127- MAE de Validación: 0.875\n",
            "Epoca 2 - Pérdida de Entrenamiento: 1.635 - Pérdida de Validación: 0.919- MAE de Validación: 0.767\n",
            "Epoca 3 - Pérdida de Entrenamiento: 1.562 - Pérdida de Validación: 0.892- MAE de Validación: 0.754\n",
            "Epoca 4 - Pérdida de Entrenamiento: 1.494 - Pérdida de Validación: 0.909- MAE de Validación: 0.765\n",
            "Epoca 5 - Pérdida de Entrenamiento: 1.404 - Pérdida de Validación: 0.878- MAE de Validación: 0.748\n",
            "Epoca 6 - Pérdida de Entrenamiento: 1.372 - Pérdida de Validación: 0.848- MAE de Validación: 0.734\n",
            "Epoca 7 - Pérdida de Entrenamiento: 1.341 - Pérdida de Validación: 0.849- MAE de Validación: 0.735\n",
            "Epoca 8 - Pérdida de Entrenamiento: 1.271 - Pérdida de Validación: 0.844- MAE de Validación: 0.728\n",
            "Epoca 9 - Pérdida de Entrenamiento: 1.245 - Pérdida de Validación: 0.834- MAE de Validación: 0.726\n",
            "Epoca 10 - Pérdida de Entrenamiento: 1.211 - Pérdida de Validación: 0.832- MAE de Validación: 0.721\n",
            "Epoca 11 - Pérdida de Entrenamiento: 1.162 - Pérdida de Validación: 0.816- MAE de Validación: 0.710\n",
            "Epoca 12 - Pérdida de Entrenamiento: 1.127 - Pérdida de Validación: 0.803- MAE de Validación: 0.703\n",
            "Epoca 13 - Pérdida de Entrenamiento: 1.102 - Pérdida de Validación: 0.805- MAE de Validación: 0.707\n",
            "Epoca 14 - Pérdida de Entrenamiento: 1.066 - Pérdida de Validación: 0.788- MAE de Validación: 0.690\n",
            "Epoca 15 - Pérdida de Entrenamiento: 1.062 - Pérdida de Validación: 0.783- MAE de Validación: 0.692\n",
            "Epoca 16 - Pérdida de Entrenamiento: 1.038 - Pérdida de Validación: 0.781- MAE de Validación: 0.689\n",
            "Epoca 17 - Pérdida de Entrenamiento: 0.980 - Pérdida de Validación: 0.773- MAE de Validación: 0.686\n",
            "Epoca 18 - Pérdida de Entrenamiento: 0.969 - Pérdida de Validación: 0.760- MAE de Validación: 0.678\n",
            "Epoca 19 - Pérdida de Entrenamiento: 0.947 - Pérdida de Validación: 0.755- MAE de Validación: 0.676\n",
            "Epoca 20 - Pérdida de Entrenamiento: 0.920 - Pérdida de Validación: 0.742- MAE de Validación: 0.668\n",
            "Epoca 21 - Pérdida de Entrenamiento: 0.894 - Pérdida de Validación: 0.735- MAE de Validación: 0.660\n",
            "Epoca 22 - Pérdida de Entrenamiento: 0.868 - Pérdida de Validación: 0.730- MAE de Validación: 0.660\n",
            "Epoca 23 - Pérdida de Entrenamiento: 0.852 - Pérdida de Validación: 0.732- MAE de Validación: 0.664\n",
            "Epoca 24 - Pérdida de Entrenamiento: 0.839 - Pérdida de Validación: 0.725- MAE de Validación: 0.658\n",
            "Epoca 25 - Pérdida de Entrenamiento: 0.809 - Pérdida de Validación: 0.726- MAE de Validación: 0.662\n",
            "Epoca 26 - Pérdida de Entrenamiento: 0.792 - Pérdida de Validación: 0.728- MAE de Validación: 0.661\n",
            "Epoca 27 - Pérdida de Entrenamiento: 0.768 - Pérdida de Validación: 0.709- MAE de Validación: 0.647\n",
            "Epoca 28 - Pérdida de Entrenamiento: 0.754 - Pérdida de Validación: 0.700- MAE de Validación: 0.643\n",
            "Epoca 29 - Pérdida de Entrenamiento: 0.745 - Pérdida de Validación: 0.694- MAE de Validación: 0.639\n",
            "Epoca 30 - Pérdida de Entrenamiento: 0.738 - Pérdida de Validación: 0.702- MAE de Validación: 0.643\n",
            "Epoca 31 - Pérdida de Entrenamiento: 0.725 - Pérdida de Validación: 0.695- MAE de Validación: 0.641\n",
            "Epoca 32 - Pérdida de Entrenamiento: 0.727 - Pérdida de Validación: 0.691- MAE de Validación: 0.638\n",
            "Epoca 33 - Pérdida de Entrenamiento: 0.709 - Pérdida de Validación: 0.685- MAE de Validación: 0.633\n",
            "Epoca 34 - Pérdida de Entrenamiento: 0.694 - Pérdida de Validación: 0.682- MAE de Validación: 0.631\n",
            "Epoca 35 - Pérdida de Entrenamiento: 0.688 - Pérdida de Validación: 0.684- MAE de Validación: 0.633\n",
            "Epoca 36 - Pérdida de Entrenamiento: 0.686 - Pérdida de Validación: 0.678- MAE de Validación: 0.629\n",
            "Epoca 37 - Pérdida de Entrenamiento: 0.679 - Pérdida de Validación: 0.675- MAE de Validación: 0.627\n",
            "Epoca 38 - Pérdida de Entrenamiento: 0.682 - Pérdida de Validación: 0.679- MAE de Validación: 0.628\n",
            "Epoca 39 - Pérdida de Entrenamiento: 0.674 - Pérdida de Validación: 0.678- MAE de Validación: 0.627\n",
            "Epoca 40 - Pérdida de Entrenamiento: 0.673 - Pérdida de Validación: 0.678- MAE de Validación: 0.626\n",
            "Epoca 41 - Pérdida de Entrenamiento: 0.674 - Pérdida de Validación: 0.672- MAE de Validación: 0.624\n",
            "Epoca 42 - Pérdida de Entrenamiento: 0.664 - Pérdida de Validación: 0.675- MAE de Validación: 0.627\n",
            "Epoca 43 - Pérdida de Entrenamiento: 0.663 - Pérdida de Validación: 0.668- MAE de Validación: 0.620\n",
            "Epoca 44 - Pérdida de Entrenamiento: 0.652 - Pérdida de Validación: 0.679- MAE de Validación: 0.628\n",
            "Epoca 45 - Pérdida de Entrenamiento: 0.655 - Pérdida de Validación: 0.676- MAE de Validación: 0.624\n",
            "Epoca 46 - Pérdida de Entrenamiento: 0.655 - Pérdida de Validación: 0.673- MAE de Validación: 0.622\n",
            "Epoca 47 - Pérdida de Entrenamiento: 0.647 - Pérdida de Validación: 0.677- MAE de Validación: 0.630\n",
            "Epoca 48 - Pérdida de Entrenamiento: 0.648 - Pérdida de Validación: 0.673- MAE de Validación: 0.625\n",
            "Epoca 49 - Pérdida de Entrenamiento: 0.644 - Pérdida de Validación: 0.675- MAE de Validación: 0.621\n"
          ]
        }
      ]
    },
    {
      "cell_type": "code",
      "source": [
        "fig, ax = plt.subplots (1,1)\n",
        "\n",
        "ax.plot(train_loss_by_epoch, label='Perdida de Entrenamiento')\n",
        "ax.plot(valid_loss_by_epoch, label='Perdida de Validación')\n",
        "ax.set_xlabel('Épocas')\n",
        "ax.set_label('Pérdida')\n",
        "ax.set_title('Perdida de Entrenamiento y Validación por Época')\n",
        "ax.legend()\n",
        "plt.show()"
      ],
      "metadata": {
        "colab": {
          "base_uri": "https://localhost:8080/",
          "height": 476
        },
        "id": "MxLK2KvnyCdV",
        "outputId": "b84f33a1-1ed0-437e-bcdb-7cffe68ea246"
      },
      "execution_count": null,
      "outputs": [
        {
          "output_type": "display_data",
          "data": {
            "text/plain": [
              "<Figure size 640x480 with 1 Axes>"
            ],
            "image/png": "[encoded data removed]"
          },
          "metadata": {}
        }
      ]
    },
    {
      "cell_type": "markdown",
      "source": [
        "Podemos observar que al usar regularización L2 (weight decay) y Batch normalization el modelo no overfittea"
      ],
      "metadata": {
        "id": "lVYTg36Vpn3z"
      }
    },
    {
      "cell_type": "markdown",
      "source": [
        "\n",
        "3- Elegir un usuario al azar, una película que dicho usuario haya puntuado y verificar la predicción del modelo. Comparar con el puntaje real que el usuario asignó a dicha película."
      ],
      "metadata": {
        "id": "-2a1WAMv-Fo_"
      }
    },
    {
      "cell_type": "code",
      "source": [
        "nnetembeddings_2.eval()\n",
        "\n",
        "# Elegir un usuario al azar\n",
        "\n",
        "random_user_index = random.randint(0, len(train_x_user) - 1)\n",
        "random_user = train_x_user[random_user_index]\n",
        "\n",
        "# Obtener todas las películas calificadas por este usuario\n",
        "\n",
        "user_movie_indices = np.where(train_x_user == random_user)[0]\n",
        "random_user_movies = train_x_movie[user_movie_indices]\n",
        "\n",
        "# Elegir una película al azar calificada por este usuario\n",
        "\n",
        "random_movie_index = random.choice(user_movie_indices)\n",
        "random_movie = train_x_movie[random_movie_index]\n",
        "\n",
        "# Obtener la puntuación real\n",
        "\n",
        "actual_rating = y_train[random_movie_index]\n",
        "\n",
        "# Extraer las características (x) correspondientes a este usuario y película\n",
        "\n",
        "x_tensor = torch.tensor(x_train[random_movie_index], dtype=torch.float32).unsqueeze(0).to(device)\n",
        "\n",
        "# Convertir los índices de usuario y película a tensores\n",
        "\n",
        "random_user_tensor = torch.tensor([random_user], dtype=torch.int64).to(device)\n",
        "random_movie_tensor = torch.tensor([random_movie], dtype=torch.int64).to(device)\n",
        "\n",
        "# Obtener la predicción del modelo\n",
        "\n",
        "with torch.no_grad():\n",
        "    predicted_rating = nnetembeddings_2(x_tensor, random_user_tensor, random_movie_tensor).item()\n",
        "\n",
        "# Mostrar los resultados\n",
        "\n",
        "print(f\"Usuario ID: {random_user}\")\n",
        "print(f\"Película ID: {random_movie}\")\n",
        "print(f\"Puntuación real: {actual_rating}\")\n",
        "print(f\"Predicción del modelo: {predicted_rating:.3f}\")\n"
      ],
      "metadata": {
        "id": "eSRloANa0cWo",
        "colab": {
          "base_uri": "https://localhost:8080/"
        },
        "outputId": "554dd136-a543-46a9-c43d-a16e8f475aef"
      },
      "execution_count": null,
      "outputs": [
        {
          "output_type": "stream",
          "name": "stdout",
          "text": [
            "Usuario ID: 73\n",
            "Película ID: 73\n",
            "Puntuación real: 3.5\n",
            "Predicción del modelo: 3.189\n"
          ]
        }
      ]
    },
    {
      "cell_type": "markdown",
      "source": [
        "4- Realizar una recomendación de película para el usuario del punto 3 utilizando los embeddings de usuario o los embeddings de películas. Comprobar si la recomendación es correcta haciendo una predicción del puntuaje con la red neuronal.\n",
        "\n",
        "La recomendación se realizará segun las siguientes condiciones:\n",
        "\n",
        "* Recomendar la pelicula que mayor puntaje de prediccion tenga siempre y cuando no la haya visto y su prediccion sea mayor a 3. Sino, recomendar la pelicula con mayor puntaje real."
      ],
      "metadata": {
        "id": "hfrMvfz7-T7c"
      }
    },
    {
      "cell_type": "code",
      "source": [
        "nnetembeddings_2.eval()\n",
        "\n",
        "# Calcular las predicciones del modelo para todas las películas posibles\n",
        "\n",
        "all_movies_tensor = torch.arange(0, 200, dtype=torch.int64).to(device)\n",
        "predicted_ratings = []\n",
        "\n",
        "with torch.no_grad():\n",
        "    user_embeddings = nnetembeddings_2.embeddings_1(torch.tensor([random_user]).to(device))\n",
        "    for movie in all_movies_tensor:\n",
        "        movie_tensor = torch.tensor([movie], dtype=torch.int64).to(device)\n",
        "        movie_embeddings = nnetembeddings_2.embeddings_2(movie_tensor)\n",
        "        predicted_rating = nnetembeddings_2.output(torch.cat([user_embeddings, movie_embeddings], dim=1)).item()\n",
        "        predicted_ratings.append(predicted_rating)\n",
        "\n",
        "predicted_ratings_tensor = torch.tensor(predicted_ratings)\n",
        "\n",
        "# Obtener la película con la mayor predicción\n",
        "\n",
        "max_predicted_rating_index = torch.argmax(predicted_ratings_tensor)\n",
        "recommended_movie_index = max_predicted_rating_index.item()\n",
        "recommended_movie = all_movies_tensor[recommended_movie_index].item()\n",
        "predicted_rating_for_recommendation = predicted_ratings_tensor[recommended_movie_index].item()\n",
        "\n",
        "# Verificar si el usuario ha visto la película\n",
        "\n",
        "if recommended_movie not in random_user_movies:\n",
        "\n",
        "    # Si no la ha visto, recomendarla si la predicción es mayor o igual a 3\n",
        "\n",
        "    if predicted_rating_for_recommendation >= 3:\n",
        "        print(f\"Usuario ID: {random_user.item()}\")\n",
        "        print(f\"Película recomendada ID: {recommended_movie}\")\n",
        "        print(f\"Predicción del modelo para la película recomendada: {predicted_rating_for_recommendation:.3f}\")\n",
        "    else:\n",
        "        # Si no supera la predicción, buscar la película mejor valorada que haya visto\n",
        "\n",
        "        max_user_rating_index = torch.tensor(np.argmax(y_train[np.isin(train_x_movie, random_user_movies)]))\n",
        "        recommended_movie_index = max_user_rating_index.item()\n",
        "        recommended_movie = random_user_movies[recommended_movie_index].item()\n",
        "        actual_rating = y_train[(train_x_user == random_user) & (train_x_movie == recommended_movie)].item()\n",
        "        print(f\"Usuario ID: {random_user.item()}\")\n",
        "        print(f\"Película recomendada ID: {recommended_movie}\")\n",
        "        print(f\"Predicción del modelo para la película recomendada: {predicted_rating_for_recommendation:.3f}\")\n",
        "        print(f\"Puntuación real: {actual_rating}\")\n"
      ],
      "metadata": {
        "colab": {
          "base_uri": "https://localhost:8080/"
        },
        "id": "uZ9nxgVBxufA",
        "outputId": "78c9d468-274d-41be-ed9f-bb201eec1f14"
      },
      "execution_count": null,
      "outputs": [
        {
          "output_type": "stream",
          "name": "stdout",
          "text": [
            "Usuario ID: 73\n",
            "Película recomendada ID: 6\n",
            "Predicción del modelo para la película recomendada: 3.363\n"
          ]
        }
      ]
    }
  ]
}